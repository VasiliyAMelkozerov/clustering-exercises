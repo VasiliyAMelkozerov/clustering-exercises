{
 "cells": [
  {
   "cell_type": "code",
   "execution_count": 1,
   "id": "7ee6008c",
   "metadata": {},
   "outputs": [],
   "source": [
    "import pandas as pd\n",
    "import seaborn as sns\n",
    "import acquire\n",
    "import matplotlib.pyplot as plt\n",
    "import numpy as np\n",
    "from scipy import stats\n",
    "from sklearn.cluster import KMeans\n",
    "from sklearn.feature_selection import SelectKBest, f_regression"
   ]
  },
  {
   "cell_type": "markdown",
   "id": "2aa3d948",
   "metadata": {},
   "source": [
    "## Acquire/Preparing (Wrangling)"
   ]
  },
  {
   "cell_type": "markdown",
   "id": "51ce7fda",
   "metadata": {},
   "source": [
    "What does the data look like?"
   ]
  },
  {
   "cell_type": "code",
   "execution_count": 2,
   "id": "213073c4",
   "metadata": {},
   "outputs": [
    {
     "data": {
      "text/html": [
       "<div>\n",
       "<style scoped>\n",
       "    .dataframe tbody tr th:only-of-type {\n",
       "        vertical-align: middle;\n",
       "    }\n",
       "\n",
       "    .dataframe tbody tr th {\n",
       "        vertical-align: top;\n",
       "    }\n",
       "\n",
       "    .dataframe thead th {\n",
       "        text-align: right;\n",
       "    }\n",
       "</style>\n",
       "<table border=\"1\" class=\"dataframe\">\n",
       "  <thead>\n",
       "    <tr style=\"text-align: right;\">\n",
       "      <th></th>\n",
       "      <th>parcelid</th>\n",
       "      <th>typeconstructiontypeid</th>\n",
       "      <th>storytypeid</th>\n",
       "      <th>propertylandusetypeid</th>\n",
       "      <th>heatingorsystemtypeid</th>\n",
       "      <th>buildingclasstypeid</th>\n",
       "      <th>architecturalstyletypeid</th>\n",
       "      <th>airconditioningtypeid</th>\n",
       "      <th>id</th>\n",
       "      <th>basementsqft</th>\n",
       "      <th>...</th>\n",
       "      <th>id</th>\n",
       "      <th>logerror</th>\n",
       "      <th>transactiondate</th>\n",
       "      <th>airconditioningdesc</th>\n",
       "      <th>architecturalstyledesc</th>\n",
       "      <th>buildingclassdesc</th>\n",
       "      <th>heatingorsystemdesc</th>\n",
       "      <th>propertylandusedesc</th>\n",
       "      <th>storydesc</th>\n",
       "      <th>typeconstructiondesc</th>\n",
       "    </tr>\n",
       "  </thead>\n",
       "  <tbody>\n",
       "    <tr>\n",
       "      <th>0</th>\n",
       "      <td>17173851</td>\n",
       "      <td>NaN</td>\n",
       "      <td>NaN</td>\n",
       "      <td>261.0</td>\n",
       "      <td>NaN</td>\n",
       "      <td>None</td>\n",
       "      <td>NaN</td>\n",
       "      <td>NaN</td>\n",
       "      <td>787</td>\n",
       "      <td>NaN</td>\n",
       "      <td>...</td>\n",
       "      <td>389.0</td>\n",
       "      <td>0.088469</td>\n",
       "      <td>2017-01-03</td>\n",
       "      <td>None</td>\n",
       "      <td>None</td>\n",
       "      <td>None</td>\n",
       "      <td>None</td>\n",
       "      <td>Single Family Residential</td>\n",
       "      <td>None</td>\n",
       "      <td>None</td>\n",
       "    </tr>\n",
       "    <tr>\n",
       "      <th>1</th>\n",
       "      <td>10821119</td>\n",
       "      <td>NaN</td>\n",
       "      <td>NaN</td>\n",
       "      <td>261.0</td>\n",
       "      <td>2.0</td>\n",
       "      <td>None</td>\n",
       "      <td>NaN</td>\n",
       "      <td>NaN</td>\n",
       "      <td>1702</td>\n",
       "      <td>NaN</td>\n",
       "      <td>...</td>\n",
       "      <td>402.0</td>\n",
       "      <td>0.025629</td>\n",
       "      <td>2017-01-03</td>\n",
       "      <td>None</td>\n",
       "      <td>None</td>\n",
       "      <td>None</td>\n",
       "      <td>Central</td>\n",
       "      <td>Single Family Residential</td>\n",
       "      <td>None</td>\n",
       "      <td>None</td>\n",
       "    </tr>\n",
       "    <tr>\n",
       "      <th>2</th>\n",
       "      <td>11007640</td>\n",
       "      <td>NaN</td>\n",
       "      <td>NaN</td>\n",
       "      <td>261.0</td>\n",
       "      <td>2.0</td>\n",
       "      <td>None</td>\n",
       "      <td>NaN</td>\n",
       "      <td>1.0</td>\n",
       "      <td>2412</td>\n",
       "      <td>NaN</td>\n",
       "      <td>...</td>\n",
       "      <td>2699.0</td>\n",
       "      <td>0.020360</td>\n",
       "      <td>2017-01-12</td>\n",
       "      <td>Central</td>\n",
       "      <td>None</td>\n",
       "      <td>None</td>\n",
       "      <td>Central</td>\n",
       "      <td>Single Family Residential</td>\n",
       "      <td>None</td>\n",
       "      <td>None</td>\n",
       "    </tr>\n",
       "    <tr>\n",
       "      <th>3</th>\n",
       "      <td>11457850</td>\n",
       "      <td>NaN</td>\n",
       "      <td>NaN</td>\n",
       "      <td>261.0</td>\n",
       "      <td>7.0</td>\n",
       "      <td>None</td>\n",
       "      <td>NaN</td>\n",
       "      <td>NaN</td>\n",
       "      <td>3770</td>\n",
       "      <td>NaN</td>\n",
       "      <td>...</td>\n",
       "      <td>2229.0</td>\n",
       "      <td>0.054233</td>\n",
       "      <td>2017-01-11</td>\n",
       "      <td>None</td>\n",
       "      <td>None</td>\n",
       "      <td>None</td>\n",
       "      <td>Floor/Wall</td>\n",
       "      <td>Single Family Residential</td>\n",
       "      <td>None</td>\n",
       "      <td>None</td>\n",
       "    </tr>\n",
       "    <tr>\n",
       "      <th>4</th>\n",
       "      <td>12591550</td>\n",
       "      <td>NaN</td>\n",
       "      <td>NaN</td>\n",
       "      <td>261.0</td>\n",
       "      <td>2.0</td>\n",
       "      <td>None</td>\n",
       "      <td>NaN</td>\n",
       "      <td>NaN</td>\n",
       "      <td>8197</td>\n",
       "      <td>NaN</td>\n",
       "      <td>...</td>\n",
       "      <td>3038.0</td>\n",
       "      <td>-0.016170</td>\n",
       "      <td>2017-01-13</td>\n",
       "      <td>None</td>\n",
       "      <td>None</td>\n",
       "      <td>None</td>\n",
       "      <td>Central</td>\n",
       "      <td>Single Family Residential</td>\n",
       "      <td>None</td>\n",
       "      <td>None</td>\n",
       "    </tr>\n",
       "    <tr>\n",
       "      <th>...</th>\n",
       "      <td>...</td>\n",
       "      <td>...</td>\n",
       "      <td>...</td>\n",
       "      <td>...</td>\n",
       "      <td>...</td>\n",
       "      <td>...</td>\n",
       "      <td>...</td>\n",
       "      <td>...</td>\n",
       "      <td>...</td>\n",
       "      <td>...</td>\n",
       "      <td>...</td>\n",
       "      <td>...</td>\n",
       "      <td>...</td>\n",
       "      <td>...</td>\n",
       "      <td>...</td>\n",
       "      <td>...</td>\n",
       "      <td>...</td>\n",
       "      <td>...</td>\n",
       "      <td>...</td>\n",
       "      <td>...</td>\n",
       "      <td>...</td>\n",
       "    </tr>\n",
       "    <tr>\n",
       "      <th>52437</th>\n",
       "      <td>12885754</td>\n",
       "      <td>NaN</td>\n",
       "      <td>NaN</td>\n",
       "      <td>261.0</td>\n",
       "      <td>7.0</td>\n",
       "      <td>None</td>\n",
       "      <td>NaN</td>\n",
       "      <td>NaN</td>\n",
       "      <td>2976765</td>\n",
       "      <td>NaN</td>\n",
       "      <td>...</td>\n",
       "      <td>42657.0</td>\n",
       "      <td>0.515289</td>\n",
       "      <td>2017-06-01</td>\n",
       "      <td>None</td>\n",
       "      <td>None</td>\n",
       "      <td>None</td>\n",
       "      <td>Floor/Wall</td>\n",
       "      <td>Single Family Residential</td>\n",
       "      <td>None</td>\n",
       "      <td>None</td>\n",
       "    </tr>\n",
       "    <tr>\n",
       "      <th>52438</th>\n",
       "      <td>13869000</td>\n",
       "      <td>NaN</td>\n",
       "      <td>NaN</td>\n",
       "      <td>261.0</td>\n",
       "      <td>NaN</td>\n",
       "      <td>None</td>\n",
       "      <td>NaN</td>\n",
       "      <td>NaN</td>\n",
       "      <td>2977815</td>\n",
       "      <td>NaN</td>\n",
       "      <td>...</td>\n",
       "      <td>32297.0</td>\n",
       "      <td>0.009512</td>\n",
       "      <td>2017-05-02</td>\n",
       "      <td>None</td>\n",
       "      <td>None</td>\n",
       "      <td>None</td>\n",
       "      <td>None</td>\n",
       "      <td>Single Family Residential</td>\n",
       "      <td>None</td>\n",
       "      <td>None</td>\n",
       "    </tr>\n",
       "    <tr>\n",
       "      <th>52439</th>\n",
       "      <td>13890509</td>\n",
       "      <td>NaN</td>\n",
       "      <td>NaN</td>\n",
       "      <td>261.0</td>\n",
       "      <td>NaN</td>\n",
       "      <td>None</td>\n",
       "      <td>NaN</td>\n",
       "      <td>NaN</td>\n",
       "      <td>2977914</td>\n",
       "      <td>NaN</td>\n",
       "      <td>...</td>\n",
       "      <td>28537.0</td>\n",
       "      <td>-0.031048</td>\n",
       "      <td>2017-04-21</td>\n",
       "      <td>None</td>\n",
       "      <td>None</td>\n",
       "      <td>None</td>\n",
       "      <td>None</td>\n",
       "      <td>Single Family Residential</td>\n",
       "      <td>None</td>\n",
       "      <td>None</td>\n",
       "    </tr>\n",
       "    <tr>\n",
       "      <th>52440</th>\n",
       "      <td>17246810</td>\n",
       "      <td>NaN</td>\n",
       "      <td>NaN</td>\n",
       "      <td>261.0</td>\n",
       "      <td>NaN</td>\n",
       "      <td>None</td>\n",
       "      <td>NaN</td>\n",
       "      <td>NaN</td>\n",
       "      <td>2980979</td>\n",
       "      <td>NaN</td>\n",
       "      <td>...</td>\n",
       "      <td>8396.0</td>\n",
       "      <td>-0.031665</td>\n",
       "      <td>2017-02-07</td>\n",
       "      <td>None</td>\n",
       "      <td>None</td>\n",
       "      <td>None</td>\n",
       "      <td>None</td>\n",
       "      <td>Single Family Residential</td>\n",
       "      <td>None</td>\n",
       "      <td>None</td>\n",
       "    </tr>\n",
       "    <tr>\n",
       "      <th>52441</th>\n",
       "      <td>14360869</td>\n",
       "      <td>NaN</td>\n",
       "      <td>NaN</td>\n",
       "      <td>261.0</td>\n",
       "      <td>NaN</td>\n",
       "      <td>None</td>\n",
       "      <td>NaN</td>\n",
       "      <td>NaN</td>\n",
       "      <td>2982193</td>\n",
       "      <td>NaN</td>\n",
       "      <td>...</td>\n",
       "      <td>71174.0</td>\n",
       "      <td>0.086432</td>\n",
       "      <td>2017-08-29</td>\n",
       "      <td>None</td>\n",
       "      <td>None</td>\n",
       "      <td>None</td>\n",
       "      <td>None</td>\n",
       "      <td>Single Family Residential</td>\n",
       "      <td>None</td>\n",
       "      <td>None</td>\n",
       "    </tr>\n",
       "  </tbody>\n",
       "</table>\n",
       "<p>52442 rows × 69 columns</p>\n",
       "</div>"
      ],
      "text/plain": [
       "       parcelid  typeconstructiontypeid  storytypeid  propertylandusetypeid  \\\n",
       "0      17173851                     NaN          NaN                  261.0   \n",
       "1      10821119                     NaN          NaN                  261.0   \n",
       "2      11007640                     NaN          NaN                  261.0   \n",
       "3      11457850                     NaN          NaN                  261.0   \n",
       "4      12591550                     NaN          NaN                  261.0   \n",
       "...         ...                     ...          ...                    ...   \n",
       "52437  12885754                     NaN          NaN                  261.0   \n",
       "52438  13869000                     NaN          NaN                  261.0   \n",
       "52439  13890509                     NaN          NaN                  261.0   \n",
       "52440  17246810                     NaN          NaN                  261.0   \n",
       "52441  14360869                     NaN          NaN                  261.0   \n",
       "\n",
       "       heatingorsystemtypeid buildingclasstypeid  architecturalstyletypeid  \\\n",
       "0                        NaN                None                       NaN   \n",
       "1                        2.0                None                       NaN   \n",
       "2                        2.0                None                       NaN   \n",
       "3                        7.0                None                       NaN   \n",
       "4                        2.0                None                       NaN   \n",
       "...                      ...                 ...                       ...   \n",
       "52437                    7.0                None                       NaN   \n",
       "52438                    NaN                None                       NaN   \n",
       "52439                    NaN                None                       NaN   \n",
       "52440                    NaN                None                       NaN   \n",
       "52441                    NaN                None                       NaN   \n",
       "\n",
       "       airconditioningtypeid       id  basementsqft  ...       id  logerror  \\\n",
       "0                        NaN      787           NaN  ...    389.0  0.088469   \n",
       "1                        NaN     1702           NaN  ...    402.0  0.025629   \n",
       "2                        1.0     2412           NaN  ...   2699.0  0.020360   \n",
       "3                        NaN     3770           NaN  ...   2229.0  0.054233   \n",
       "4                        NaN     8197           NaN  ...   3038.0 -0.016170   \n",
       "...                      ...      ...           ...  ...      ...       ...   \n",
       "52437                    NaN  2976765           NaN  ...  42657.0  0.515289   \n",
       "52438                    NaN  2977815           NaN  ...  32297.0  0.009512   \n",
       "52439                    NaN  2977914           NaN  ...  28537.0 -0.031048   \n",
       "52440                    NaN  2980979           NaN  ...   8396.0 -0.031665   \n",
       "52441                    NaN  2982193           NaN  ...  71174.0  0.086432   \n",
       "\n",
       "       transactiondate  airconditioningdesc  architecturalstyledesc  \\\n",
       "0           2017-01-03                 None                    None   \n",
       "1           2017-01-03                 None                    None   \n",
       "2           2017-01-12              Central                    None   \n",
       "3           2017-01-11                 None                    None   \n",
       "4           2017-01-13                 None                    None   \n",
       "...                ...                  ...                     ...   \n",
       "52437       2017-06-01                 None                    None   \n",
       "52438       2017-05-02                 None                    None   \n",
       "52439       2017-04-21                 None                    None   \n",
       "52440       2017-02-07                 None                    None   \n",
       "52441       2017-08-29                 None                    None   \n",
       "\n",
       "       buildingclassdesc  heatingorsystemdesc        propertylandusedesc  \\\n",
       "0                   None                 None  Single Family Residential   \n",
       "1                   None              Central  Single Family Residential   \n",
       "2                   None              Central  Single Family Residential   \n",
       "3                   None           Floor/Wall  Single Family Residential   \n",
       "4                   None              Central  Single Family Residential   \n",
       "...                  ...                  ...                        ...   \n",
       "52437               None           Floor/Wall  Single Family Residential   \n",
       "52438               None                 None  Single Family Residential   \n",
       "52439               None                 None  Single Family Residential   \n",
       "52440               None                 None  Single Family Residential   \n",
       "52441               None                 None  Single Family Residential   \n",
       "\n",
       "      storydesc typeconstructiondesc  \n",
       "0          None                 None  \n",
       "1          None                 None  \n",
       "2          None                 None  \n",
       "3          None                 None  \n",
       "4          None                 None  \n",
       "...         ...                  ...  \n",
       "52437      None                 None  \n",
       "52438      None                 None  \n",
       "52439      None                 None  \n",
       "52440      None                 None  \n",
       "52441      None                 None  \n",
       "\n",
       "[52442 rows x 69 columns]"
      ]
     },
     "execution_count": 2,
     "metadata": {},
     "output_type": "execute_result"
    }
   ],
   "source": [
    "df = acquire.zillow_data()\n",
    "df"
   ]
  },
  {
   "cell_type": "markdown",
   "id": "fc6719d6",
   "metadata": {},
   "source": [
    "## Prepare"
   ]
  },
  {
   "cell_type": "markdown",
   "id": "d5aa3534",
   "metadata": {},
   "source": [
    "- let's get an idea of what the logerror is and looks like\n",
    "- the max and min are pretty close apart \n",
    "- i want just the outliers\n",
    "- i do not know what the negative or positive logerror mean wether they over or underestimated the price"
   ]
  },
  {
   "cell_type": "code",
   "execution_count": 3,
   "id": "97d26ac3",
   "metadata": {},
   "outputs": [
    {
     "data": {
      "text/plain": [
       "count    52441.000000\n",
       "mean         0.018298\n",
       "std          0.177501\n",
       "min         -4.655420\n",
       "25%         -0.024639\n",
       "50%          0.007011\n",
       "75%          0.040692\n",
       "max          5.262999\n",
       "Name: logerror, dtype: float64"
      ]
     },
     "execution_count": 3,
     "metadata": {},
     "output_type": "execute_result"
    }
   ],
   "source": [
    "df.logerror.describe()"
   ]
  },
  {
   "cell_type": "markdown",
   "id": "1f3a9f76",
   "metadata": {},
   "source": [
    "Where are the nulls?"
   ]
  },
  {
   "cell_type": "code",
   "execution_count": 4,
   "id": "626ee2f4",
   "metadata": {},
   "outputs": [
    {
     "data": {
      "text/plain": [
       "parcelid                      0\n",
       "typeconstructiontypeid    52366\n",
       "storytypeid               52395\n",
       "propertylandusetypeid         0\n",
       "heatingorsystemtypeid     18507\n",
       "                          ...  \n",
       "buildingclassdesc         52442\n",
       "heatingorsystemdesc       18507\n",
       "propertylandusedesc           0\n",
       "storydesc                 52395\n",
       "typeconstructiondesc      52366\n",
       "Length: 69, dtype: int64"
      ]
     },
     "execution_count": 4,
     "metadata": {},
     "output_type": "execute_result"
    }
   ],
   "source": [
    "df.isnull().sum()"
   ]
  },
  {
   "cell_type": "markdown",
   "id": "2ff68a0d",
   "metadata": {},
   "source": [
    "<b>We have many columns with mostly null values</b>"
   ]
  },
  {
   "cell_type": "code",
   "execution_count": 5,
   "id": "5140d3bd",
   "metadata": {},
   "outputs": [
    {
     "data": {
      "text/plain": [
       "(52442, 69)"
      ]
     },
     "execution_count": 5,
     "metadata": {},
     "output_type": "execute_result"
    }
   ],
   "source": [
    "df.shape"
   ]
  },
  {
   "cell_type": "markdown",
   "id": "5b90e470",
   "metadata": {},
   "source": [
    "> Your audience for this project is a data science team. The presentation will consist of a notebook demo of the discoveries you made and work you have done related to uncovering what the drivers of the error in the zestimate is.\n",
    "<br>\n",
    "<a href=\"https://ds.codeup.com/clustering/project/\">Project Source</a>"
   ]
  },
  {
   "cell_type": "markdown",
   "id": "d755a13c",
   "metadata": {},
   "source": [
    "><i>𝑙𝑜𝑔𝑒𝑟𝑟𝑜𝑟=𝑙𝑜𝑔(𝑍𝑒𝑠𝑡𝑖𝑚𝑎𝑡𝑒)−𝑙𝑜𝑔(𝑆𝑎𝑙𝑒𝑃𝑟𝑖𝑐𝑒)</i>\n",
    "<br>\n",
    "<a href=\"https://www.kaggle.com/competitions/zillow-prize-1/data\">from zillow website</a>"
   ]
  },
  {
   "cell_type": "markdown",
   "id": "59ddeb9d",
   "metadata": {},
   "source": [
    "<div>This series of observations on trying to understand logerror has led me back to the acquireing stage to narrow in what I am looking for. From here in order to head towards my MVP model I shall no longer mess with the data coming in. Rather here in I will explore and find what I will. Exploration can take a while so it is best I set up goals.</div>\n",
    "> positive log error means that the price was overestimated, negative log error means that the price was underestimated"
   ]
  },
  {
   "cell_type": "markdown",
   "id": "d4205b43",
   "metadata": {},
   "source": [
    "<div>Since I am going to re-acquire my data I can now plan out where and how I am going to handle the outliers, we handle outliers because it messes with our machine learnign accuracy in a negative way.</div>"
   ]
  },
  {
   "cell_type": "markdown",
   "id": "d3bb1beb",
   "metadata": {},
   "source": [
    "<div>So this then begs the question what is a threshold I can set to where we need to start worrying about. It would take a good bit of time to have a great reason mathematically. For now maybe I can look at where the error lies in terms of the described info of logerror. Just pick a number (|.03|), fine I will change it. I just realised that I will need both a lower and upper bound limits to control the amount of data coming through. In normal speak that is, handle outliers. The upper bound threshold will be 3 while the lower bound threshold is .03 </div>"
   ]
  },
  {
   "cell_type": "markdown",
   "id": "7b95e050",
   "metadata": {},
   "source": [
    "Sweet! even though I have cut my original data set in half I should be able  to have enough to workthrough. From here in I can split the data before further investigating"
   ]
  },
  {
   "cell_type": "markdown",
   "id": "55c5e765",
   "metadata": {},
   "source": [
    "<b>Dropping columns that have columns with <90% empty values</b>"
   ]
  },
  {
   "cell_type": "code",
   "execution_count": 6,
   "id": "a53c7e4b",
   "metadata": {},
   "outputs": [
    {
     "data": {
      "text/html": [
       "<div>\n",
       "<style scoped>\n",
       "    .dataframe tbody tr th:only-of-type {\n",
       "        vertical-align: middle;\n",
       "    }\n",
       "\n",
       "    .dataframe tbody tr th {\n",
       "        vertical-align: top;\n",
       "    }\n",
       "\n",
       "    .dataframe thead th {\n",
       "        text-align: right;\n",
       "    }\n",
       "</style>\n",
       "<table border=\"1\" class=\"dataframe\">\n",
       "  <thead>\n",
       "    <tr style=\"text-align: right;\">\n",
       "      <th></th>\n",
       "      <th>parcelid</th>\n",
       "      <th>propertylandusetypeid</th>\n",
       "      <th>id</th>\n",
       "      <th>bathroomcnt</th>\n",
       "      <th>bedroomcnt</th>\n",
       "      <th>calculatedbathnbr</th>\n",
       "      <th>calculatedfinishedsquarefeet</th>\n",
       "      <th>finishedsquarefeet12</th>\n",
       "      <th>fips</th>\n",
       "      <th>fullbathcnt</th>\n",
       "      <th>...</th>\n",
       "      <th>structuretaxvaluedollarcnt</th>\n",
       "      <th>taxvaluedollarcnt</th>\n",
       "      <th>assessmentyear</th>\n",
       "      <th>landtaxvaluedollarcnt</th>\n",
       "      <th>taxamount</th>\n",
       "      <th>censustractandblock</th>\n",
       "      <th>id</th>\n",
       "      <th>logerror</th>\n",
       "      <th>transactiondate</th>\n",
       "      <th>propertylandusedesc</th>\n",
       "    </tr>\n",
       "  </thead>\n",
       "  <tbody>\n",
       "    <tr>\n",
       "      <th>0</th>\n",
       "      <td>17173851</td>\n",
       "      <td>261.0</td>\n",
       "      <td>787</td>\n",
       "      <td>2.0</td>\n",
       "      <td>4.0</td>\n",
       "      <td>2.0</td>\n",
       "      <td>1848.0</td>\n",
       "      <td>1848.0</td>\n",
       "      <td>6111.0</td>\n",
       "      <td>2.0</td>\n",
       "      <td>...</td>\n",
       "      <td>47193.0</td>\n",
       "      <td>64712.0</td>\n",
       "      <td>2016.0</td>\n",
       "      <td>17519.0</td>\n",
       "      <td>781.00</td>\n",
       "      <td>6.111004e+13</td>\n",
       "      <td>389.0</td>\n",
       "      <td>0.088469</td>\n",
       "      <td>2017-01-03</td>\n",
       "      <td>Single Family Residential</td>\n",
       "    </tr>\n",
       "    <tr>\n",
       "      <th>1</th>\n",
       "      <td>10821119</td>\n",
       "      <td>261.0</td>\n",
       "      <td>1702</td>\n",
       "      <td>2.0</td>\n",
       "      <td>2.0</td>\n",
       "      <td>2.0</td>\n",
       "      <td>1430.0</td>\n",
       "      <td>1430.0</td>\n",
       "      <td>6037.0</td>\n",
       "      <td>2.0</td>\n",
       "      <td>...</td>\n",
       "      <td>107511.0</td>\n",
       "      <td>381638.0</td>\n",
       "      <td>2016.0</td>\n",
       "      <td>274127.0</td>\n",
       "      <td>4692.27</td>\n",
       "      <td>6.037131e+13</td>\n",
       "      <td>402.0</td>\n",
       "      <td>0.025629</td>\n",
       "      <td>2017-01-03</td>\n",
       "      <td>Single Family Residential</td>\n",
       "    </tr>\n",
       "    <tr>\n",
       "      <th>2</th>\n",
       "      <td>11007640</td>\n",
       "      <td>261.0</td>\n",
       "      <td>2412</td>\n",
       "      <td>2.0</td>\n",
       "      <td>3.0</td>\n",
       "      <td>2.0</td>\n",
       "      <td>1572.0</td>\n",
       "      <td>1572.0</td>\n",
       "      <td>6037.0</td>\n",
       "      <td>2.0</td>\n",
       "      <td>...</td>\n",
       "      <td>144802.0</td>\n",
       "      <td>305307.0</td>\n",
       "      <td>2016.0</td>\n",
       "      <td>160505.0</td>\n",
       "      <td>3887.80</td>\n",
       "      <td>6.037106e+13</td>\n",
       "      <td>2699.0</td>\n",
       "      <td>0.020360</td>\n",
       "      <td>2017-01-12</td>\n",
       "      <td>Single Family Residential</td>\n",
       "    </tr>\n",
       "    <tr>\n",
       "      <th>3</th>\n",
       "      <td>11457850</td>\n",
       "      <td>261.0</td>\n",
       "      <td>3770</td>\n",
       "      <td>2.0</td>\n",
       "      <td>3.0</td>\n",
       "      <td>2.0</td>\n",
       "      <td>1412.0</td>\n",
       "      <td>1412.0</td>\n",
       "      <td>6037.0</td>\n",
       "      <td>2.0</td>\n",
       "      <td>...</td>\n",
       "      <td>38700.0</td>\n",
       "      <td>93146.0</td>\n",
       "      <td>2016.0</td>\n",
       "      <td>54446.0</td>\n",
       "      <td>1246.18</td>\n",
       "      <td>6.037276e+13</td>\n",
       "      <td>2229.0</td>\n",
       "      <td>0.054233</td>\n",
       "      <td>2017-01-11</td>\n",
       "      <td>Single Family Residential</td>\n",
       "    </tr>\n",
       "    <tr>\n",
       "      <th>4</th>\n",
       "      <td>12591550</td>\n",
       "      <td>261.0</td>\n",
       "      <td>8197</td>\n",
       "      <td>2.0</td>\n",
       "      <td>3.0</td>\n",
       "      <td>2.0</td>\n",
       "      <td>1352.0</td>\n",
       "      <td>1352.0</td>\n",
       "      <td>6037.0</td>\n",
       "      <td>2.0</td>\n",
       "      <td>...</td>\n",
       "      <td>96651.0</td>\n",
       "      <td>482242.0</td>\n",
       "      <td>2016.0</td>\n",
       "      <td>385591.0</td>\n",
       "      <td>6098.62</td>\n",
       "      <td>6.037544e+13</td>\n",
       "      <td>3038.0</td>\n",
       "      <td>-0.016170</td>\n",
       "      <td>2017-01-13</td>\n",
       "      <td>Single Family Residential</td>\n",
       "    </tr>\n",
       "    <tr>\n",
       "      <th>...</th>\n",
       "      <td>...</td>\n",
       "      <td>...</td>\n",
       "      <td>...</td>\n",
       "      <td>...</td>\n",
       "      <td>...</td>\n",
       "      <td>...</td>\n",
       "      <td>...</td>\n",
       "      <td>...</td>\n",
       "      <td>...</td>\n",
       "      <td>...</td>\n",
       "      <td>...</td>\n",
       "      <td>...</td>\n",
       "      <td>...</td>\n",
       "      <td>...</td>\n",
       "      <td>...</td>\n",
       "      <td>...</td>\n",
       "      <td>...</td>\n",
       "      <td>...</td>\n",
       "      <td>...</td>\n",
       "      <td>...</td>\n",
       "      <td>...</td>\n",
       "    </tr>\n",
       "    <tr>\n",
       "      <th>52437</th>\n",
       "      <td>12885754</td>\n",
       "      <td>261.0</td>\n",
       "      <td>2976765</td>\n",
       "      <td>1.0</td>\n",
       "      <td>3.0</td>\n",
       "      <td>1.0</td>\n",
       "      <td>1021.0</td>\n",
       "      <td>1021.0</td>\n",
       "      <td>6037.0</td>\n",
       "      <td>1.0</td>\n",
       "      <td>...</td>\n",
       "      <td>93397.0</td>\n",
       "      <td>200214.0</td>\n",
       "      <td>2016.0</td>\n",
       "      <td>106817.0</td>\n",
       "      <td>2629.33</td>\n",
       "      <td>6.037403e+13</td>\n",
       "      <td>42657.0</td>\n",
       "      <td>0.515289</td>\n",
       "      <td>2017-06-01</td>\n",
       "      <td>Single Family Residential</td>\n",
       "    </tr>\n",
       "    <tr>\n",
       "      <th>52438</th>\n",
       "      <td>13869000</td>\n",
       "      <td>261.0</td>\n",
       "      <td>2977815</td>\n",
       "      <td>2.0</td>\n",
       "      <td>4.0</td>\n",
       "      <td>2.0</td>\n",
       "      <td>1554.0</td>\n",
       "      <td>1554.0</td>\n",
       "      <td>6059.0</td>\n",
       "      <td>2.0</td>\n",
       "      <td>...</td>\n",
       "      <td>135043.0</td>\n",
       "      <td>215695.0</td>\n",
       "      <td>2016.0</td>\n",
       "      <td>80652.0</td>\n",
       "      <td>2607.04</td>\n",
       "      <td>6.059002e+13</td>\n",
       "      <td>32297.0</td>\n",
       "      <td>0.009512</td>\n",
       "      <td>2017-05-02</td>\n",
       "      <td>Single Family Residential</td>\n",
       "    </tr>\n",
       "    <tr>\n",
       "      <th>52439</th>\n",
       "      <td>13890509</td>\n",
       "      <td>261.0</td>\n",
       "      <td>2977914</td>\n",
       "      <td>4.0</td>\n",
       "      <td>3.0</td>\n",
       "      <td>4.0</td>\n",
       "      <td>2880.0</td>\n",
       "      <td>2880.0</td>\n",
       "      <td>6059.0</td>\n",
       "      <td>4.0</td>\n",
       "      <td>...</td>\n",
       "      <td>271027.0</td>\n",
       "      <td>1389962.0</td>\n",
       "      <td>2016.0</td>\n",
       "      <td>1118935.0</td>\n",
       "      <td>14935.72</td>\n",
       "      <td>6.059063e+13</td>\n",
       "      <td>28537.0</td>\n",
       "      <td>-0.031048</td>\n",
       "      <td>2017-04-21</td>\n",
       "      <td>Single Family Residential</td>\n",
       "    </tr>\n",
       "    <tr>\n",
       "      <th>52440</th>\n",
       "      <td>17246810</td>\n",
       "      <td>261.0</td>\n",
       "      <td>2980979</td>\n",
       "      <td>2.5</td>\n",
       "      <td>3.0</td>\n",
       "      <td>2.5</td>\n",
       "      <td>1376.0</td>\n",
       "      <td>1376.0</td>\n",
       "      <td>6111.0</td>\n",
       "      <td>2.0</td>\n",
       "      <td>...</td>\n",
       "      <td>201839.0</td>\n",
       "      <td>403678.0</td>\n",
       "      <td>2016.0</td>\n",
       "      <td>201839.0</td>\n",
       "      <td>4880.90</td>\n",
       "      <td>6.111008e+13</td>\n",
       "      <td>8396.0</td>\n",
       "      <td>-0.031665</td>\n",
       "      <td>2017-02-07</td>\n",
       "      <td>Single Family Residential</td>\n",
       "    </tr>\n",
       "    <tr>\n",
       "      <th>52441</th>\n",
       "      <td>14360869</td>\n",
       "      <td>261.0</td>\n",
       "      <td>2982193</td>\n",
       "      <td>3.5</td>\n",
       "      <td>4.0</td>\n",
       "      <td>3.5</td>\n",
       "      <td>3236.0</td>\n",
       "      <td>3236.0</td>\n",
       "      <td>6059.0</td>\n",
       "      <td>3.0</td>\n",
       "      <td>...</td>\n",
       "      <td>559878.0</td>\n",
       "      <td>1409388.0</td>\n",
       "      <td>2016.0</td>\n",
       "      <td>849510.0</td>\n",
       "      <td>18909.38</td>\n",
       "      <td>6.059063e+13</td>\n",
       "      <td>71174.0</td>\n",
       "      <td>0.086432</td>\n",
       "      <td>2017-08-29</td>\n",
       "      <td>Single Family Residential</td>\n",
       "    </tr>\n",
       "  </tbody>\n",
       "</table>\n",
       "<p>52442 rows × 30 columns</p>\n",
       "</div>"
      ],
      "text/plain": [
       "       parcelid  propertylandusetypeid       id  bathroomcnt  bedroomcnt  \\\n",
       "0      17173851                  261.0      787          2.0         4.0   \n",
       "1      10821119                  261.0     1702          2.0         2.0   \n",
       "2      11007640                  261.0     2412          2.0         3.0   \n",
       "3      11457850                  261.0     3770          2.0         3.0   \n",
       "4      12591550                  261.0     8197          2.0         3.0   \n",
       "...         ...                    ...      ...          ...         ...   \n",
       "52437  12885754                  261.0  2976765          1.0         3.0   \n",
       "52438  13869000                  261.0  2977815          2.0         4.0   \n",
       "52439  13890509                  261.0  2977914          4.0         3.0   \n",
       "52440  17246810                  261.0  2980979          2.5         3.0   \n",
       "52441  14360869                  261.0  2982193          3.5         4.0   \n",
       "\n",
       "       calculatedbathnbr  calculatedfinishedsquarefeet  finishedsquarefeet12  \\\n",
       "0                    2.0                        1848.0                1848.0   \n",
       "1                    2.0                        1430.0                1430.0   \n",
       "2                    2.0                        1572.0                1572.0   \n",
       "3                    2.0                        1412.0                1412.0   \n",
       "4                    2.0                        1352.0                1352.0   \n",
       "...                  ...                           ...                   ...   \n",
       "52437                1.0                        1021.0                1021.0   \n",
       "52438                2.0                        1554.0                1554.0   \n",
       "52439                4.0                        2880.0                2880.0   \n",
       "52440                2.5                        1376.0                1376.0   \n",
       "52441                3.5                        3236.0                3236.0   \n",
       "\n",
       "         fips  fullbathcnt  ...  structuretaxvaluedollarcnt  \\\n",
       "0      6111.0          2.0  ...                     47193.0   \n",
       "1      6037.0          2.0  ...                    107511.0   \n",
       "2      6037.0          2.0  ...                    144802.0   \n",
       "3      6037.0          2.0  ...                     38700.0   \n",
       "4      6037.0          2.0  ...                     96651.0   \n",
       "...       ...          ...  ...                         ...   \n",
       "52437  6037.0          1.0  ...                     93397.0   \n",
       "52438  6059.0          2.0  ...                    135043.0   \n",
       "52439  6059.0          4.0  ...                    271027.0   \n",
       "52440  6111.0          2.0  ...                    201839.0   \n",
       "52441  6059.0          3.0  ...                    559878.0   \n",
       "\n",
       "       taxvaluedollarcnt  assessmentyear landtaxvaluedollarcnt  taxamount  \\\n",
       "0                64712.0          2016.0               17519.0     781.00   \n",
       "1               381638.0          2016.0              274127.0    4692.27   \n",
       "2               305307.0          2016.0              160505.0    3887.80   \n",
       "3                93146.0          2016.0               54446.0    1246.18   \n",
       "4               482242.0          2016.0              385591.0    6098.62   \n",
       "...                  ...             ...                   ...        ...   \n",
       "52437           200214.0          2016.0              106817.0    2629.33   \n",
       "52438           215695.0          2016.0               80652.0    2607.04   \n",
       "52439          1389962.0          2016.0             1118935.0   14935.72   \n",
       "52440           403678.0          2016.0              201839.0    4880.90   \n",
       "52441          1409388.0          2016.0              849510.0   18909.38   \n",
       "\n",
       "       censustractandblock       id  logerror  transactiondate  \\\n",
       "0             6.111004e+13    389.0  0.088469       2017-01-03   \n",
       "1             6.037131e+13    402.0  0.025629       2017-01-03   \n",
       "2             6.037106e+13   2699.0  0.020360       2017-01-12   \n",
       "3             6.037276e+13   2229.0  0.054233       2017-01-11   \n",
       "4             6.037544e+13   3038.0 -0.016170       2017-01-13   \n",
       "...                    ...      ...       ...              ...   \n",
       "52437         6.037403e+13  42657.0  0.515289       2017-06-01   \n",
       "52438         6.059002e+13  32297.0  0.009512       2017-05-02   \n",
       "52439         6.059063e+13  28537.0 -0.031048       2017-04-21   \n",
       "52440         6.111008e+13   8396.0 -0.031665       2017-02-07   \n",
       "52441         6.059063e+13  71174.0  0.086432       2017-08-29   \n",
       "\n",
       "             propertylandusedesc  \n",
       "0      Single Family Residential  \n",
       "1      Single Family Residential  \n",
       "2      Single Family Residential  \n",
       "3      Single Family Residential  \n",
       "4      Single Family Residential  \n",
       "...                          ...  \n",
       "52437  Single Family Residential  \n",
       "52438  Single Family Residential  \n",
       "52439  Single Family Residential  \n",
       "52440  Single Family Residential  \n",
       "52441  Single Family Residential  \n",
       "\n",
       "[52442 rows x 30 columns]"
      ]
     },
     "execution_count": 6,
     "metadata": {},
     "output_type": "execute_result"
    }
   ],
   "source": [
    "acquire.handle_missing_values(df, prop_required_column=.9, prop_required_row=0)"
   ]
  },
  {
   "cell_type": "code",
   "execution_count": 7,
   "id": "36764376",
   "metadata": {},
   "outputs": [
    {
     "data": {
      "text/plain": [
       "Index(['parcelid', 'typeconstructiontypeid', 'storytypeid',\n",
       "       'propertylandusetypeid', 'heatingorsystemtypeid', 'buildingclasstypeid',\n",
       "       'architecturalstyletypeid', 'airconditioningtypeid', 'id',\n",
       "       'basementsqft', 'bathroomcnt', 'bedroomcnt', 'buildingqualitytypeid',\n",
       "       'calculatedbathnbr', 'decktypeid', 'finishedfloor1squarefeet',\n",
       "       'calculatedfinishedsquarefeet', 'finishedsquarefeet12',\n",
       "       'finishedsquarefeet13', 'finishedsquarefeet15', 'finishedsquarefeet50',\n",
       "       'finishedsquarefeet6', 'fips', 'fireplacecnt', 'fullbathcnt',\n",
       "       'garagecarcnt', 'garagetotalsqft', 'hashottuborspa', 'latitude',\n",
       "       'longitude', 'lotsizesquarefeet', 'poolcnt', 'poolsizesum',\n",
       "       'pooltypeid10', 'pooltypeid2', 'pooltypeid7',\n",
       "       'propertycountylandusecode', 'propertyzoningdesc',\n",
       "       'rawcensustractandblock', 'regionidcity', 'regionidcounty',\n",
       "       'regionidneighborhood', 'regionidzip', 'roomcnt', 'threequarterbathnbr',\n",
       "       'unitcnt', 'yardbuildingsqft17', 'yardbuildingsqft26', 'yearbuilt',\n",
       "       'numberofstories', 'fireplaceflag', 'structuretaxvaluedollarcnt',\n",
       "       'taxvaluedollarcnt', 'assessmentyear', 'landtaxvaluedollarcnt',\n",
       "       'taxamount', 'taxdelinquencyflag', 'taxdelinquencyyear',\n",
       "       'censustractandblock', 'id', 'logerror', 'transactiondate',\n",
       "       'airconditioningdesc', 'architecturalstyledesc', 'buildingclassdesc',\n",
       "       'heatingorsystemdesc', 'propertylandusedesc', 'storydesc',\n",
       "       'typeconstructiondesc'],\n",
       "      dtype='object')"
      ]
     },
     "execution_count": 7,
     "metadata": {},
     "output_type": "execute_result"
    }
   ],
   "source": [
    "df.columns"
   ]
  },
  {
   "cell_type": "markdown",
   "id": "5286b068",
   "metadata": {},
   "source": [
    "This fills in may of the rows that are empty"
   ]
  },
  {
   "cell_type": "code",
   "execution_count": 8,
   "id": "0ede30d6",
   "metadata": {},
   "outputs": [],
   "source": [
    "df = df.fillna(0)"
   ]
  },
  {
   "cell_type": "markdown",
   "id": "611a3a9f",
   "metadata": {},
   "source": [
    "I have dropped over 60 columns that had 90% of their entries empty. Now what?\n",
    "We can start graphing stuff, possibly build out graphs to start seeing some of those relationships if there are any."
   ]
  },
  {
   "cell_type": "markdown",
   "id": "2bb2dade",
   "metadata": {},
   "source": [
    "<b>Splitting the data</b>"
   ]
  },
  {
   "cell_type": "code",
   "execution_count": 9,
   "id": "f883de8b",
   "metadata": {},
   "outputs": [],
   "source": [
    "train, validate, test = acquire.traintestsplit(df)"
   ]
  },
  {
   "cell_type": "markdown",
   "id": "3d1dfad3",
   "metadata": {},
   "source": [
    "typeconstructiontypeid - the material used in the building process\n",
    "storytypeid - the amount of floors the building has\n",
    "propertylandusetypeid - "
   ]
  },
  {
   "cell_type": "code",
   "execution_count": 10,
   "id": "c19b04b0",
   "metadata": {},
   "outputs": [],
   "source": [
    "#dropping off columns that are 90% empty\n",
    "df = acquire.handle_missing_values(df,prop_required_column=.9,prop_required_row=0)"
   ]
  },
  {
   "cell_type": "markdown",
   "id": "4d54d79e",
   "metadata": {},
   "source": [
    "Now that the columns are dropped I am also going to neeed to trim excess material"
   ]
  },
  {
   "cell_type": "code",
   "execution_count": 11,
   "id": "5f9b2c48",
   "metadata": {},
   "outputs": [],
   "source": [
    "df = acquire.drop_cat_columns(df)"
   ]
  },
  {
   "cell_type": "code",
   "execution_count": 12,
   "id": "586c8a00",
   "metadata": {},
   "outputs": [],
   "source": [
    "df = acquire.takeout_outliers1(df)"
   ]
  },
  {
   "cell_type": "code",
   "execution_count": 13,
   "id": "e33331fb",
   "metadata": {},
   "outputs": [
    {
     "data": {
      "text/html": [
       "<div>\n",
       "<style scoped>\n",
       "    .dataframe tbody tr th:only-of-type {\n",
       "        vertical-align: middle;\n",
       "    }\n",
       "\n",
       "    .dataframe tbody tr th {\n",
       "        vertical-align: top;\n",
       "    }\n",
       "\n",
       "    .dataframe thead th {\n",
       "        text-align: right;\n",
       "    }\n",
       "</style>\n",
       "<table border=\"1\" class=\"dataframe\">\n",
       "  <thead>\n",
       "    <tr style=\"text-align: right;\">\n",
       "      <th></th>\n",
       "      <th>typeconstructiontypeid</th>\n",
       "      <th>storytypeid</th>\n",
       "      <th>heatingorsystemtypeid</th>\n",
       "      <th>buildingclasstypeid</th>\n",
       "      <th>architecturalstyletypeid</th>\n",
       "      <th>airconditioningtypeid</th>\n",
       "      <th>basementsqft</th>\n",
       "      <th>bathroomcnt</th>\n",
       "      <th>bedroomcnt</th>\n",
       "      <th>buildingqualitytypeid</th>\n",
       "      <th>...</th>\n",
       "      <th>taxdelinquencyflag</th>\n",
       "      <th>taxdelinquencyyear</th>\n",
       "      <th>censustractandblock</th>\n",
       "      <th>logerror</th>\n",
       "      <th>airconditioningdesc</th>\n",
       "      <th>architecturalstyledesc</th>\n",
       "      <th>buildingclassdesc</th>\n",
       "      <th>heatingorsystemdesc</th>\n",
       "      <th>storydesc</th>\n",
       "      <th>typeconstructiondesc</th>\n",
       "    </tr>\n",
       "  </thead>\n",
       "  <tbody>\n",
       "    <tr>\n",
       "      <th>0</th>\n",
       "      <td>0.0</td>\n",
       "      <td>0.0</td>\n",
       "      <td>0.0</td>\n",
       "      <td>0</td>\n",
       "      <td>0.0</td>\n",
       "      <td>0.0</td>\n",
       "      <td>0.0</td>\n",
       "      <td>2.0</td>\n",
       "      <td>4.0</td>\n",
       "      <td>0.0</td>\n",
       "      <td>...</td>\n",
       "      <td>0</td>\n",
       "      <td>0.0</td>\n",
       "      <td>6.111004e+13</td>\n",
       "      <td>0.088469</td>\n",
       "      <td>0</td>\n",
       "      <td>0</td>\n",
       "      <td>0</td>\n",
       "      <td>0</td>\n",
       "      <td>0</td>\n",
       "      <td>0</td>\n",
       "    </tr>\n",
       "    <tr>\n",
       "      <th>3</th>\n",
       "      <td>0.0</td>\n",
       "      <td>0.0</td>\n",
       "      <td>7.0</td>\n",
       "      <td>0</td>\n",
       "      <td>0.0</td>\n",
       "      <td>0.0</td>\n",
       "      <td>0.0</td>\n",
       "      <td>2.0</td>\n",
       "      <td>3.0</td>\n",
       "      <td>6.0</td>\n",
       "      <td>...</td>\n",
       "      <td>0</td>\n",
       "      <td>0.0</td>\n",
       "      <td>6.037276e+13</td>\n",
       "      <td>0.054233</td>\n",
       "      <td>0</td>\n",
       "      <td>0</td>\n",
       "      <td>0</td>\n",
       "      <td>Floor/Wall</td>\n",
       "      <td>0</td>\n",
       "      <td>0</td>\n",
       "    </tr>\n",
       "    <tr>\n",
       "      <th>5</th>\n",
       "      <td>0.0</td>\n",
       "      <td>0.0</td>\n",
       "      <td>2.0</td>\n",
       "      <td>0</td>\n",
       "      <td>0.0</td>\n",
       "      <td>1.0</td>\n",
       "      <td>0.0</td>\n",
       "      <td>1.0</td>\n",
       "      <td>3.0</td>\n",
       "      <td>4.0</td>\n",
       "      <td>...</td>\n",
       "      <td>0</td>\n",
       "      <td>0.0</td>\n",
       "      <td>6.037553e+13</td>\n",
       "      <td>0.442837</td>\n",
       "      <td>Central</td>\n",
       "      <td>0</td>\n",
       "      <td>0</td>\n",
       "      <td>Central</td>\n",
       "      <td>0</td>\n",
       "      <td>0</td>\n",
       "    </tr>\n",
       "    <tr>\n",
       "      <th>6</th>\n",
       "      <td>0.0</td>\n",
       "      <td>0.0</td>\n",
       "      <td>0.0</td>\n",
       "      <td>0</td>\n",
       "      <td>0.0</td>\n",
       "      <td>0.0</td>\n",
       "      <td>0.0</td>\n",
       "      <td>1.5</td>\n",
       "      <td>2.0</td>\n",
       "      <td>0.0</td>\n",
       "      <td>...</td>\n",
       "      <td>0</td>\n",
       "      <td>0.0</td>\n",
       "      <td>6.059042e+13</td>\n",
       "      <td>0.087099</td>\n",
       "      <td>0</td>\n",
       "      <td>0</td>\n",
       "      <td>0</td>\n",
       "      <td>0</td>\n",
       "      <td>0</td>\n",
       "      <td>0</td>\n",
       "    </tr>\n",
       "    <tr>\n",
       "      <th>8</th>\n",
       "      <td>0.0</td>\n",
       "      <td>0.0</td>\n",
       "      <td>0.0</td>\n",
       "      <td>0</td>\n",
       "      <td>0.0</td>\n",
       "      <td>0.0</td>\n",
       "      <td>0.0</td>\n",
       "      <td>3.0</td>\n",
       "      <td>4.0</td>\n",
       "      <td>0.0</td>\n",
       "      <td>...</td>\n",
       "      <td>0</td>\n",
       "      <td>0.0</td>\n",
       "      <td>6.059063e+13</td>\n",
       "      <td>0.032578</td>\n",
       "      <td>0</td>\n",
       "      <td>0</td>\n",
       "      <td>0</td>\n",
       "      <td>0</td>\n",
       "      <td>0</td>\n",
       "      <td>0</td>\n",
       "    </tr>\n",
       "  </tbody>\n",
       "</table>\n",
       "<p>5 rows × 57 columns</p>\n",
       "</div>"
      ],
      "text/plain": [
       "   typeconstructiontypeid  storytypeid  heatingorsystemtypeid  \\\n",
       "0                     0.0          0.0                    0.0   \n",
       "3                     0.0          0.0                    7.0   \n",
       "5                     0.0          0.0                    2.0   \n",
       "6                     0.0          0.0                    0.0   \n",
       "8                     0.0          0.0                    0.0   \n",
       "\n",
       "   buildingclasstypeid  architecturalstyletypeid  airconditioningtypeid  \\\n",
       "0                    0                       0.0                    0.0   \n",
       "3                    0                       0.0                    0.0   \n",
       "5                    0                       0.0                    1.0   \n",
       "6                    0                       0.0                    0.0   \n",
       "8                    0                       0.0                    0.0   \n",
       "\n",
       "   basementsqft  bathroomcnt  bedroomcnt  buildingqualitytypeid  ...  \\\n",
       "0           0.0          2.0         4.0                    0.0  ...   \n",
       "3           0.0          2.0         3.0                    6.0  ...   \n",
       "5           0.0          1.0         3.0                    4.0  ...   \n",
       "6           0.0          1.5         2.0                    0.0  ...   \n",
       "8           0.0          3.0         4.0                    0.0  ...   \n",
       "\n",
       "   taxdelinquencyflag  taxdelinquencyyear  censustractandblock  logerror  \\\n",
       "0                   0                 0.0         6.111004e+13  0.088469   \n",
       "3                   0                 0.0         6.037276e+13  0.054233   \n",
       "5                   0                 0.0         6.037553e+13  0.442837   \n",
       "6                   0                 0.0         6.059042e+13  0.087099   \n",
       "8                   0                 0.0         6.059063e+13  0.032578   \n",
       "\n",
       "   airconditioningdesc  architecturalstyledesc  buildingclassdesc  \\\n",
       "0                    0                       0                  0   \n",
       "3                    0                       0                  0   \n",
       "5              Central                       0                  0   \n",
       "6                    0                       0                  0   \n",
       "8                    0                       0                  0   \n",
       "\n",
       "   heatingorsystemdesc  storydesc  typeconstructiondesc  \n",
       "0                    0          0                     0  \n",
       "3           Floor/Wall          0                     0  \n",
       "5              Central          0                     0  \n",
       "6                    0          0                     0  \n",
       "8                    0          0                     0  \n",
       "\n",
       "[5 rows x 57 columns]"
      ]
     },
     "execution_count": 13,
     "metadata": {},
     "output_type": "execute_result"
    }
   ],
   "source": [
    "df.head()"
   ]
  },
  {
   "cell_type": "markdown",
   "id": "2e7284f5",
   "metadata": {},
   "source": [
    "## Explore"
   ]
  },
  {
   "cell_type": "code",
   "execution_count": 14,
   "id": "836c4952",
   "metadata": {},
   "outputs": [],
   "source": [
    "train, validate, test = acquire.traintestsplit(df)"
   ]
  },
  {
   "cell_type": "markdown",
   "id": "55bd770c",
   "metadata": {},
   "source": [
    "the data is split and looking healthy"
   ]
  },
  {
   "cell_type": "code",
   "execution_count": 15,
   "id": "78626a96",
   "metadata": {},
   "outputs": [],
   "source": [
    "train_scaled, validate_scaled, test_scaled = acquire.splitmoreways(train, validate, test)"
   ]
  },
  {
   "cell_type": "code",
   "execution_count": 16,
   "id": "6491306e",
   "metadata": {},
   "outputs": [
    {
     "data": {
      "text/html": [
       "<div>\n",
       "<style scoped>\n",
       "    .dataframe tbody tr th:only-of-type {\n",
       "        vertical-align: middle;\n",
       "    }\n",
       "\n",
       "    .dataframe tbody tr th {\n",
       "        vertical-align: top;\n",
       "    }\n",
       "\n",
       "    .dataframe thead th {\n",
       "        text-align: right;\n",
       "    }\n",
       "</style>\n",
       "<table border=\"1\" class=\"dataframe\">\n",
       "  <thead>\n",
       "    <tr style=\"text-align: right;\">\n",
       "      <th></th>\n",
       "      <th>typeconstructiontypeid</th>\n",
       "      <th>storytypeid</th>\n",
       "      <th>heatingorsystemtypeid</th>\n",
       "      <th>buildingclasstypeid</th>\n",
       "      <th>architecturalstyletypeid</th>\n",
       "      <th>airconditioningtypeid</th>\n",
       "      <th>basementsqft</th>\n",
       "      <th>bathroomcnt</th>\n",
       "      <th>bedroomcnt</th>\n",
       "      <th>buildingqualitytypeid</th>\n",
       "      <th>...</th>\n",
       "      <th>taxdelinquencyflag</th>\n",
       "      <th>taxdelinquencyyear</th>\n",
       "      <th>censustractandblock</th>\n",
       "      <th>logerror</th>\n",
       "      <th>airconditioningdesc</th>\n",
       "      <th>architecturalstyledesc</th>\n",
       "      <th>buildingclassdesc</th>\n",
       "      <th>heatingorsystemdesc</th>\n",
       "      <th>storydesc</th>\n",
       "      <th>typeconstructiondesc</th>\n",
       "    </tr>\n",
       "  </thead>\n",
       "  <tbody>\n",
       "    <tr>\n",
       "      <th>40731</th>\n",
       "      <td>0.0</td>\n",
       "      <td>0.0</td>\n",
       "      <td>7.0</td>\n",
       "      <td>0</td>\n",
       "      <td>0.0</td>\n",
       "      <td>0.0</td>\n",
       "      <td>0.0</td>\n",
       "      <td>0.090909</td>\n",
       "      <td>0.3</td>\n",
       "      <td>4.0</td>\n",
       "      <td>...</td>\n",
       "      <td>0</td>\n",
       "      <td>0.0</td>\n",
       "      <td>0.125001</td>\n",
       "      <td>-0.048415</td>\n",
       "      <td>0</td>\n",
       "      <td>0</td>\n",
       "      <td>0</td>\n",
       "      <td>Floor/Wall</td>\n",
       "      <td>0</td>\n",
       "      <td>0</td>\n",
       "    </tr>\n",
       "    <tr>\n",
       "      <th>1059</th>\n",
       "      <td>0.0</td>\n",
       "      <td>0.0</td>\n",
       "      <td>7.0</td>\n",
       "      <td>0</td>\n",
       "      <td>0.0</td>\n",
       "      <td>0.0</td>\n",
       "      <td>0.0</td>\n",
       "      <td>0.090909</td>\n",
       "      <td>0.3</td>\n",
       "      <td>4.0</td>\n",
       "      <td>...</td>\n",
       "      <td>0</td>\n",
       "      <td>0.0</td>\n",
       "      <td>0.124993</td>\n",
       "      <td>0.171315</td>\n",
       "      <td>0</td>\n",
       "      <td>0</td>\n",
       "      <td>0</td>\n",
       "      <td>Floor/Wall</td>\n",
       "      <td>0</td>\n",
       "      <td>0</td>\n",
       "    </tr>\n",
       "    <tr>\n",
       "      <th>48642</th>\n",
       "      <td>0.0</td>\n",
       "      <td>0.0</td>\n",
       "      <td>0.0</td>\n",
       "      <td>0</td>\n",
       "      <td>0.0</td>\n",
       "      <td>0.0</td>\n",
       "      <td>0.0</td>\n",
       "      <td>0.181818</td>\n",
       "      <td>0.4</td>\n",
       "      <td>0.0</td>\n",
       "      <td>...</td>\n",
       "      <td>0</td>\n",
       "      <td>0.0</td>\n",
       "      <td>0.125437</td>\n",
       "      <td>0.066977</td>\n",
       "      <td>0</td>\n",
       "      <td>0</td>\n",
       "      <td>0</td>\n",
       "      <td>0</td>\n",
       "      <td>0</td>\n",
       "      <td>0</td>\n",
       "    </tr>\n",
       "    <tr>\n",
       "      <th>42603</th>\n",
       "      <td>0.0</td>\n",
       "      <td>0.0</td>\n",
       "      <td>2.0</td>\n",
       "      <td>0</td>\n",
       "      <td>0.0</td>\n",
       "      <td>1.0</td>\n",
       "      <td>0.0</td>\n",
       "      <td>0.181818</td>\n",
       "      <td>0.3</td>\n",
       "      <td>6.0</td>\n",
       "      <td>...</td>\n",
       "      <td>0</td>\n",
       "      <td>0.0</td>\n",
       "      <td>0.125001</td>\n",
       "      <td>0.037205</td>\n",
       "      <td>Central</td>\n",
       "      <td>0</td>\n",
       "      <td>0</td>\n",
       "      <td>Central</td>\n",
       "      <td>0</td>\n",
       "      <td>0</td>\n",
       "    </tr>\n",
       "    <tr>\n",
       "      <th>17181</th>\n",
       "      <td>0.0</td>\n",
       "      <td>0.0</td>\n",
       "      <td>7.0</td>\n",
       "      <td>0</td>\n",
       "      <td>0.0</td>\n",
       "      <td>0.0</td>\n",
       "      <td>0.0</td>\n",
       "      <td>0.181818</td>\n",
       "      <td>0.3</td>\n",
       "      <td>6.0</td>\n",
       "      <td>...</td>\n",
       "      <td>0</td>\n",
       "      <td>0.0</td>\n",
       "      <td>0.124988</td>\n",
       "      <td>0.037416</td>\n",
       "      <td>0</td>\n",
       "      <td>0</td>\n",
       "      <td>0</td>\n",
       "      <td>Floor/Wall</td>\n",
       "      <td>0</td>\n",
       "      <td>0</td>\n",
       "    </tr>\n",
       "  </tbody>\n",
       "</table>\n",
       "<p>5 rows × 57 columns</p>\n",
       "</div>"
      ],
      "text/plain": [
       "       typeconstructiontypeid  storytypeid  heatingorsystemtypeid  \\\n",
       "40731                     0.0          0.0                    7.0   \n",
       "1059                      0.0          0.0                    7.0   \n",
       "48642                     0.0          0.0                    0.0   \n",
       "42603                     0.0          0.0                    2.0   \n",
       "17181                     0.0          0.0                    7.0   \n",
       "\n",
       "       buildingclasstypeid  architecturalstyletypeid  airconditioningtypeid  \\\n",
       "40731                    0                       0.0                    0.0   \n",
       "1059                     0                       0.0                    0.0   \n",
       "48642                    0                       0.0                    0.0   \n",
       "42603                    0                       0.0                    1.0   \n",
       "17181                    0                       0.0                    0.0   \n",
       "\n",
       "       basementsqft  bathroomcnt  bedroomcnt  buildingqualitytypeid  ...  \\\n",
       "40731           0.0     0.090909         0.3                    4.0  ...   \n",
       "1059            0.0     0.090909         0.3                    4.0  ...   \n",
       "48642           0.0     0.181818         0.4                    0.0  ...   \n",
       "42603           0.0     0.181818         0.3                    6.0  ...   \n",
       "17181           0.0     0.181818         0.3                    6.0  ...   \n",
       "\n",
       "       taxdelinquencyflag  taxdelinquencyyear  censustractandblock  logerror  \\\n",
       "40731                   0                 0.0             0.125001 -0.048415   \n",
       "1059                    0                 0.0             0.124993  0.171315   \n",
       "48642                   0                 0.0             0.125437  0.066977   \n",
       "42603                   0                 0.0             0.125001  0.037205   \n",
       "17181                   0                 0.0             0.124988  0.037416   \n",
       "\n",
       "       airconditioningdesc  architecturalstyledesc  buildingclassdesc  \\\n",
       "40731                    0                       0                  0   \n",
       "1059                     0                       0                  0   \n",
       "48642                    0                       0                  0   \n",
       "42603              Central                       0                  0   \n",
       "17181                    0                       0                  0   \n",
       "\n",
       "       heatingorsystemdesc  storydesc  typeconstructiondesc  \n",
       "40731           Floor/Wall          0                     0  \n",
       "1059            Floor/Wall          0                     0  \n",
       "48642                    0          0                     0  \n",
       "42603              Central          0                     0  \n",
       "17181           Floor/Wall          0                     0  \n",
       "\n",
       "[5 rows x 57 columns]"
      ]
     },
     "execution_count": 16,
     "metadata": {},
     "output_type": "execute_result"
    }
   ],
   "source": [
    "train_scaled.head()"
   ]
  },
  {
   "cell_type": "code",
   "execution_count": 17,
   "id": "0dbbf734",
   "metadata": {},
   "outputs": [
    {
     "ename": "ValueError",
     "evalue": "could not convert string to float: 'PDR1*'",
     "output_type": "error",
     "traceback": [
      "\u001b[0;31m---------------------------------------------------------------------------\u001b[0m",
      "\u001b[0;31mValueError\u001b[0m                                Traceback (most recent call last)",
      "\u001b[0;32m/var/folders/cs/9mn89l_n6p3c9sq01q5f54kh0000gn/T/ipykernel_55195/1980833175.py\u001b[0m in \u001b[0;36m<module>\u001b[0;34m\u001b[0m\n\u001b[1;32m      3\u001b[0m \u001b[0;34m\u001b[0m\u001b[0m\n\u001b[1;32m      4\u001b[0m \u001b[0;31m# find the top 8 X's correlated with y\u001b[0m\u001b[0;34m\u001b[0m\u001b[0;34m\u001b[0m\u001b[0m\n\u001b[0;32m----> 5\u001b[0;31m \u001b[0mf_selector\u001b[0m\u001b[0;34m.\u001b[0m\u001b[0mfit\u001b[0m\u001b[0;34m(\u001b[0m\u001b[0mtrain_scaled\u001b[0m\u001b[0;34m,\u001b[0m \u001b[0mtrain\u001b[0m\u001b[0;34m.\u001b[0m\u001b[0mlogerror\u001b[0m\u001b[0;34m)\u001b[0m\u001b[0;34m\u001b[0m\u001b[0;34m\u001b[0m\u001b[0m\n\u001b[0m\u001b[1;32m      6\u001b[0m \u001b[0;34m\u001b[0m\u001b[0m\n\u001b[1;32m      7\u001b[0m \u001b[0;31m# boolean mask of whether the column was selected or not.\u001b[0m\u001b[0;34m\u001b[0m\u001b[0;34m\u001b[0m\u001b[0m\n",
      "\u001b[0;32m/usr/local/anaconda3/lib/python3.9/site-packages/sklearn/feature_selection/_univariate_selection.py\u001b[0m in \u001b[0;36mfit\u001b[0;34m(self, X, y)\u001b[0m\n\u001b[1;32m    342\u001b[0m         \u001b[0mself\u001b[0m \u001b[0;34m:\u001b[0m \u001b[0mobject\u001b[0m\u001b[0;34m\u001b[0m\u001b[0;34m\u001b[0m\u001b[0m\n\u001b[1;32m    343\u001b[0m         \"\"\"\n\u001b[0;32m--> 344\u001b[0;31m         X, y = self._validate_data(X, y, accept_sparse=['csr', 'csc'],\n\u001b[0m\u001b[1;32m    345\u001b[0m                                    multi_output=True)\n\u001b[1;32m    346\u001b[0m \u001b[0;34m\u001b[0m\u001b[0m\n",
      "\u001b[0;32m/usr/local/anaconda3/lib/python3.9/site-packages/sklearn/base.py\u001b[0m in \u001b[0;36m_validate_data\u001b[0;34m(self, X, y, reset, validate_separately, **check_params)\u001b[0m\n\u001b[1;32m    431\u001b[0m                 \u001b[0my\u001b[0m \u001b[0;34m=\u001b[0m \u001b[0mcheck_array\u001b[0m\u001b[0;34m(\u001b[0m\u001b[0my\u001b[0m\u001b[0;34m,\u001b[0m \u001b[0;34m**\u001b[0m\u001b[0mcheck_y_params\u001b[0m\u001b[0;34m)\u001b[0m\u001b[0;34m\u001b[0m\u001b[0;34m\u001b[0m\u001b[0m\n\u001b[1;32m    432\u001b[0m             \u001b[0;32melse\u001b[0m\u001b[0;34m:\u001b[0m\u001b[0;34m\u001b[0m\u001b[0;34m\u001b[0m\u001b[0m\n\u001b[0;32m--> 433\u001b[0;31m                 \u001b[0mX\u001b[0m\u001b[0;34m,\u001b[0m \u001b[0my\u001b[0m \u001b[0;34m=\u001b[0m \u001b[0mcheck_X_y\u001b[0m\u001b[0;34m(\u001b[0m\u001b[0mX\u001b[0m\u001b[0;34m,\u001b[0m \u001b[0my\u001b[0m\u001b[0;34m,\u001b[0m \u001b[0;34m**\u001b[0m\u001b[0mcheck_params\u001b[0m\u001b[0;34m)\u001b[0m\u001b[0;34m\u001b[0m\u001b[0;34m\u001b[0m\u001b[0m\n\u001b[0m\u001b[1;32m    434\u001b[0m             \u001b[0mout\u001b[0m \u001b[0;34m=\u001b[0m \u001b[0mX\u001b[0m\u001b[0;34m,\u001b[0m \u001b[0my\u001b[0m\u001b[0;34m\u001b[0m\u001b[0;34m\u001b[0m\u001b[0m\n\u001b[1;32m    435\u001b[0m \u001b[0;34m\u001b[0m\u001b[0m\n",
      "\u001b[0;32m/usr/local/anaconda3/lib/python3.9/site-packages/sklearn/utils/validation.py\u001b[0m in \u001b[0;36minner_f\u001b[0;34m(*args, **kwargs)\u001b[0m\n\u001b[1;32m     61\u001b[0m             \u001b[0mextra_args\u001b[0m \u001b[0;34m=\u001b[0m \u001b[0mlen\u001b[0m\u001b[0;34m(\u001b[0m\u001b[0margs\u001b[0m\u001b[0;34m)\u001b[0m \u001b[0;34m-\u001b[0m \u001b[0mlen\u001b[0m\u001b[0;34m(\u001b[0m\u001b[0mall_args\u001b[0m\u001b[0;34m)\u001b[0m\u001b[0;34m\u001b[0m\u001b[0;34m\u001b[0m\u001b[0m\n\u001b[1;32m     62\u001b[0m             \u001b[0;32mif\u001b[0m \u001b[0mextra_args\u001b[0m \u001b[0;34m<=\u001b[0m \u001b[0;36m0\u001b[0m\u001b[0;34m:\u001b[0m\u001b[0;34m\u001b[0m\u001b[0;34m\u001b[0m\u001b[0m\n\u001b[0;32m---> 63\u001b[0;31m                 \u001b[0;32mreturn\u001b[0m \u001b[0mf\u001b[0m\u001b[0;34m(\u001b[0m\u001b[0;34m*\u001b[0m\u001b[0margs\u001b[0m\u001b[0;34m,\u001b[0m \u001b[0;34m**\u001b[0m\u001b[0mkwargs\u001b[0m\u001b[0;34m)\u001b[0m\u001b[0;34m\u001b[0m\u001b[0;34m\u001b[0m\u001b[0m\n\u001b[0m\u001b[1;32m     64\u001b[0m \u001b[0;34m\u001b[0m\u001b[0m\n\u001b[1;32m     65\u001b[0m             \u001b[0;31m# extra_args > 0\u001b[0m\u001b[0;34m\u001b[0m\u001b[0;34m\u001b[0m\u001b[0m\n",
      "\u001b[0;32m/usr/local/anaconda3/lib/python3.9/site-packages/sklearn/utils/validation.py\u001b[0m in \u001b[0;36mcheck_X_y\u001b[0;34m(X, y, accept_sparse, accept_large_sparse, dtype, order, copy, force_all_finite, ensure_2d, allow_nd, multi_output, ensure_min_samples, ensure_min_features, y_numeric, estimator)\u001b[0m\n\u001b[1;32m    869\u001b[0m         \u001b[0;32mraise\u001b[0m \u001b[0mValueError\u001b[0m\u001b[0;34m(\u001b[0m\u001b[0;34m\"y cannot be None\"\u001b[0m\u001b[0;34m)\u001b[0m\u001b[0;34m\u001b[0m\u001b[0;34m\u001b[0m\u001b[0m\n\u001b[1;32m    870\u001b[0m \u001b[0;34m\u001b[0m\u001b[0m\n\u001b[0;32m--> 871\u001b[0;31m     X = check_array(X, accept_sparse=accept_sparse,\n\u001b[0m\u001b[1;32m    872\u001b[0m                     \u001b[0maccept_large_sparse\u001b[0m\u001b[0;34m=\u001b[0m\u001b[0maccept_large_sparse\u001b[0m\u001b[0;34m,\u001b[0m\u001b[0;34m\u001b[0m\u001b[0;34m\u001b[0m\u001b[0m\n\u001b[1;32m    873\u001b[0m                     \u001b[0mdtype\u001b[0m\u001b[0;34m=\u001b[0m\u001b[0mdtype\u001b[0m\u001b[0;34m,\u001b[0m \u001b[0morder\u001b[0m\u001b[0;34m=\u001b[0m\u001b[0morder\u001b[0m\u001b[0;34m,\u001b[0m \u001b[0mcopy\u001b[0m\u001b[0;34m=\u001b[0m\u001b[0mcopy\u001b[0m\u001b[0;34m,\u001b[0m\u001b[0;34m\u001b[0m\u001b[0;34m\u001b[0m\u001b[0m\n",
      "\u001b[0;32m/usr/local/anaconda3/lib/python3.9/site-packages/sklearn/utils/validation.py\u001b[0m in \u001b[0;36minner_f\u001b[0;34m(*args, **kwargs)\u001b[0m\n\u001b[1;32m     61\u001b[0m             \u001b[0mextra_args\u001b[0m \u001b[0;34m=\u001b[0m \u001b[0mlen\u001b[0m\u001b[0;34m(\u001b[0m\u001b[0margs\u001b[0m\u001b[0;34m)\u001b[0m \u001b[0;34m-\u001b[0m \u001b[0mlen\u001b[0m\u001b[0;34m(\u001b[0m\u001b[0mall_args\u001b[0m\u001b[0;34m)\u001b[0m\u001b[0;34m\u001b[0m\u001b[0;34m\u001b[0m\u001b[0m\n\u001b[1;32m     62\u001b[0m             \u001b[0;32mif\u001b[0m \u001b[0mextra_args\u001b[0m \u001b[0;34m<=\u001b[0m \u001b[0;36m0\u001b[0m\u001b[0;34m:\u001b[0m\u001b[0;34m\u001b[0m\u001b[0;34m\u001b[0m\u001b[0m\n\u001b[0;32m---> 63\u001b[0;31m                 \u001b[0;32mreturn\u001b[0m \u001b[0mf\u001b[0m\u001b[0;34m(\u001b[0m\u001b[0;34m*\u001b[0m\u001b[0margs\u001b[0m\u001b[0;34m,\u001b[0m \u001b[0;34m**\u001b[0m\u001b[0mkwargs\u001b[0m\u001b[0;34m)\u001b[0m\u001b[0;34m\u001b[0m\u001b[0;34m\u001b[0m\u001b[0m\n\u001b[0m\u001b[1;32m     64\u001b[0m \u001b[0;34m\u001b[0m\u001b[0m\n\u001b[1;32m     65\u001b[0m             \u001b[0;31m# extra_args > 0\u001b[0m\u001b[0;34m\u001b[0m\u001b[0;34m\u001b[0m\u001b[0m\n",
      "\u001b[0;32m/usr/local/anaconda3/lib/python3.9/site-packages/sklearn/utils/validation.py\u001b[0m in \u001b[0;36mcheck_array\u001b[0;34m(array, accept_sparse, accept_large_sparse, dtype, order, copy, force_all_finite, ensure_2d, allow_nd, ensure_min_samples, ensure_min_features, estimator)\u001b[0m\n\u001b[1;32m    671\u001b[0m                     \u001b[0marray\u001b[0m \u001b[0;34m=\u001b[0m \u001b[0marray\u001b[0m\u001b[0;34m.\u001b[0m\u001b[0mastype\u001b[0m\u001b[0;34m(\u001b[0m\u001b[0mdtype\u001b[0m\u001b[0;34m,\u001b[0m \u001b[0mcasting\u001b[0m\u001b[0;34m=\u001b[0m\u001b[0;34m\"unsafe\"\u001b[0m\u001b[0;34m,\u001b[0m \u001b[0mcopy\u001b[0m\u001b[0;34m=\u001b[0m\u001b[0;32mFalse\u001b[0m\u001b[0;34m)\u001b[0m\u001b[0;34m\u001b[0m\u001b[0;34m\u001b[0m\u001b[0m\n\u001b[1;32m    672\u001b[0m                 \u001b[0;32melse\u001b[0m\u001b[0;34m:\u001b[0m\u001b[0;34m\u001b[0m\u001b[0;34m\u001b[0m\u001b[0m\n\u001b[0;32m--> 673\u001b[0;31m                     \u001b[0marray\u001b[0m \u001b[0;34m=\u001b[0m \u001b[0mnp\u001b[0m\u001b[0;34m.\u001b[0m\u001b[0masarray\u001b[0m\u001b[0;34m(\u001b[0m\u001b[0marray\u001b[0m\u001b[0;34m,\u001b[0m \u001b[0morder\u001b[0m\u001b[0;34m=\u001b[0m\u001b[0morder\u001b[0m\u001b[0;34m,\u001b[0m \u001b[0mdtype\u001b[0m\u001b[0;34m=\u001b[0m\u001b[0mdtype\u001b[0m\u001b[0;34m)\u001b[0m\u001b[0;34m\u001b[0m\u001b[0;34m\u001b[0m\u001b[0m\n\u001b[0m\u001b[1;32m    674\u001b[0m             \u001b[0;32mexcept\u001b[0m \u001b[0mComplexWarning\u001b[0m \u001b[0;32mas\u001b[0m \u001b[0mcomplex_warning\u001b[0m\u001b[0;34m:\u001b[0m\u001b[0;34m\u001b[0m\u001b[0;34m\u001b[0m\u001b[0m\n\u001b[1;32m    675\u001b[0m                 raise ValueError(\"Complex data not supported\\n\"\n",
      "\u001b[0;32m/usr/local/anaconda3/lib/python3.9/site-packages/numpy/core/_asarray.py\u001b[0m in \u001b[0;36masarray\u001b[0;34m(a, dtype, order, like)\u001b[0m\n\u001b[1;32m    100\u001b[0m         \u001b[0;32mreturn\u001b[0m \u001b[0m_asarray_with_like\u001b[0m\u001b[0;34m(\u001b[0m\u001b[0ma\u001b[0m\u001b[0;34m,\u001b[0m \u001b[0mdtype\u001b[0m\u001b[0;34m=\u001b[0m\u001b[0mdtype\u001b[0m\u001b[0;34m,\u001b[0m \u001b[0morder\u001b[0m\u001b[0;34m=\u001b[0m\u001b[0morder\u001b[0m\u001b[0;34m,\u001b[0m \u001b[0mlike\u001b[0m\u001b[0;34m=\u001b[0m\u001b[0mlike\u001b[0m\u001b[0;34m)\u001b[0m\u001b[0;34m\u001b[0m\u001b[0;34m\u001b[0m\u001b[0m\n\u001b[1;32m    101\u001b[0m \u001b[0;34m\u001b[0m\u001b[0m\n\u001b[0;32m--> 102\u001b[0;31m     \u001b[0;32mreturn\u001b[0m \u001b[0marray\u001b[0m\u001b[0;34m(\u001b[0m\u001b[0ma\u001b[0m\u001b[0;34m,\u001b[0m \u001b[0mdtype\u001b[0m\u001b[0;34m,\u001b[0m \u001b[0mcopy\u001b[0m\u001b[0;34m=\u001b[0m\u001b[0;32mFalse\u001b[0m\u001b[0;34m,\u001b[0m \u001b[0morder\u001b[0m\u001b[0;34m=\u001b[0m\u001b[0morder\u001b[0m\u001b[0;34m)\u001b[0m\u001b[0;34m\u001b[0m\u001b[0;34m\u001b[0m\u001b[0m\n\u001b[0m\u001b[1;32m    103\u001b[0m \u001b[0;34m\u001b[0m\u001b[0m\n\u001b[1;32m    104\u001b[0m \u001b[0;34m\u001b[0m\u001b[0m\n",
      "\u001b[0;32m/usr/local/anaconda3/lib/python3.9/site-packages/pandas/core/generic.py\u001b[0m in \u001b[0;36m__array__\u001b[0;34m(self, dtype)\u001b[0m\n\u001b[1;32m   1991\u001b[0m \u001b[0;34m\u001b[0m\u001b[0m\n\u001b[1;32m   1992\u001b[0m     \u001b[0;32mdef\u001b[0m \u001b[0m__array__\u001b[0m\u001b[0;34m(\u001b[0m\u001b[0mself\u001b[0m\u001b[0;34m,\u001b[0m \u001b[0mdtype\u001b[0m\u001b[0;34m:\u001b[0m \u001b[0mNpDtype\u001b[0m \u001b[0;34m|\u001b[0m \u001b[0;32mNone\u001b[0m \u001b[0;34m=\u001b[0m \u001b[0;32mNone\u001b[0m\u001b[0;34m)\u001b[0m \u001b[0;34m->\u001b[0m \u001b[0mnp\u001b[0m\u001b[0;34m.\u001b[0m\u001b[0mndarray\u001b[0m\u001b[0;34m:\u001b[0m\u001b[0;34m\u001b[0m\u001b[0;34m\u001b[0m\u001b[0m\n\u001b[0;32m-> 1993\u001b[0;31m         \u001b[0;32mreturn\u001b[0m \u001b[0mnp\u001b[0m\u001b[0;34m.\u001b[0m\u001b[0masarray\u001b[0m\u001b[0;34m(\u001b[0m\u001b[0mself\u001b[0m\u001b[0;34m.\u001b[0m\u001b[0m_values\u001b[0m\u001b[0;34m,\u001b[0m \u001b[0mdtype\u001b[0m\u001b[0;34m=\u001b[0m\u001b[0mdtype\u001b[0m\u001b[0;34m)\u001b[0m\u001b[0;34m\u001b[0m\u001b[0;34m\u001b[0m\u001b[0m\n\u001b[0m\u001b[1;32m   1994\u001b[0m \u001b[0;34m\u001b[0m\u001b[0m\n\u001b[1;32m   1995\u001b[0m     def __array_wrap__(\n",
      "\u001b[0;32m/usr/local/anaconda3/lib/python3.9/site-packages/numpy/core/_asarray.py\u001b[0m in \u001b[0;36masarray\u001b[0;34m(a, dtype, order, like)\u001b[0m\n\u001b[1;32m    100\u001b[0m         \u001b[0;32mreturn\u001b[0m \u001b[0m_asarray_with_like\u001b[0m\u001b[0;34m(\u001b[0m\u001b[0ma\u001b[0m\u001b[0;34m,\u001b[0m \u001b[0mdtype\u001b[0m\u001b[0;34m=\u001b[0m\u001b[0mdtype\u001b[0m\u001b[0;34m,\u001b[0m \u001b[0morder\u001b[0m\u001b[0;34m=\u001b[0m\u001b[0morder\u001b[0m\u001b[0;34m,\u001b[0m \u001b[0mlike\u001b[0m\u001b[0;34m=\u001b[0m\u001b[0mlike\u001b[0m\u001b[0;34m)\u001b[0m\u001b[0;34m\u001b[0m\u001b[0;34m\u001b[0m\u001b[0m\n\u001b[1;32m    101\u001b[0m \u001b[0;34m\u001b[0m\u001b[0m\n\u001b[0;32m--> 102\u001b[0;31m     \u001b[0;32mreturn\u001b[0m \u001b[0marray\u001b[0m\u001b[0;34m(\u001b[0m\u001b[0ma\u001b[0m\u001b[0;34m,\u001b[0m \u001b[0mdtype\u001b[0m\u001b[0;34m,\u001b[0m \u001b[0mcopy\u001b[0m\u001b[0;34m=\u001b[0m\u001b[0;32mFalse\u001b[0m\u001b[0;34m,\u001b[0m \u001b[0morder\u001b[0m\u001b[0;34m=\u001b[0m\u001b[0morder\u001b[0m\u001b[0;34m)\u001b[0m\u001b[0;34m\u001b[0m\u001b[0;34m\u001b[0m\u001b[0m\n\u001b[0m\u001b[1;32m    103\u001b[0m \u001b[0;34m\u001b[0m\u001b[0m\n\u001b[1;32m    104\u001b[0m \u001b[0;34m\u001b[0m\u001b[0m\n",
      "\u001b[0;31mValueError\u001b[0m: could not convert string to float: 'PDR1*'"
     ]
    }
   ],
   "source": [
    "# parameters: f_regression stats test, give me 19 features\n",
    "f_selector = SelectKBest(f_regression, k=19)\n",
    "\n",
    "# find the top 8 X's correlated with y\n",
    "f_selector.fit(train_scaled, train.logerror)\n",
    "\n",
    "# boolean mask of whether the column was selected or not. \n",
    "feature_mask = f_selector.get_support()\n",
    "\n",
    "# get list of top K features. \n",
    "f_feature = train_scaled.iloc[:,feature_mask].columns.tolist()\n",
    "\n",
    "f_feature\n",
    "#these features alos are great drivers for taxvaluedolarcnt which is then used in the zestimate"
   ]
  },
  {
   "cell_type": "markdown",
   "id": "ed43436e",
   "metadata": {},
   "source": [
    "I have dropped off features that are categorical values. These mean close tp nothing to my ML models. Since ML models do best on spectrums of data rather then definite types"
   ]
  },
  {
   "cell_type": "markdown",
   "id": "14cc5304",
   "metadata": {},
   "source": [
    "Well it seems that this error auto-magically fixed itself after a kernel"
   ]
  },
  {
   "cell_type": "markdown",
   "id": "ac2b6245",
   "metadata": {},
   "source": [
    "What does the distribution of logerror look like?"
   ]
  },
  {
   "cell_type": "code",
   "execution_count": null,
   "id": "d2bb0aa1",
   "metadata": {},
   "outputs": [],
   "source": [
    "sns.boxplot(y=train.logerror, data=train)\n",
    "#even though I have scaled my data I can go back and re-edit my outliers"
   ]
  },
  {
   "cell_type": "code",
   "execution_count": null,
   "id": "19f1b6a2",
   "metadata": {},
   "outputs": [],
   "source": [
    "train.logerror.describe()"
   ]
  },
  {
   "cell_type": "markdown",
   "id": "99ba421d",
   "metadata": {},
   "source": [
    "<b>Takeaways: the vast majority of the errors are on the lower end around 0.03</b>"
   ]
  },
  {
   "attachments": {
    "Screenshot%202022-06-15%20at%2011-16-31%20explore_zillow%20-%20Jupyter%20Notebook.png": {
     "image/png": "[encoded data removed]"
    }
   },
   "cell_type": "markdown",
   "id": "b60bf945",
   "metadata": {},
   "source": [
    "![Screenshot%202022-06-15%20at%2011-16-31%20explore_zillow%20-%20Jupyter%20Notebook.png](attachment:Screenshot%202022-06-15%20at%2011-16-31%20explore_zillow%20-%20Jupyter%20Notebook.png)"
   ]
  },
  {
   "cell_type": "markdown",
   "id": "45a79923",
   "metadata": {},
   "source": [
    "## Explore"
   ]
  },
  {
   "cell_type": "code",
   "execution_count": null,
   "id": "01159fb8",
   "metadata": {},
   "outputs": [],
   "source": [
    "alpha = 0.05"
   ]
  },
  {
   "cell_type": "markdown",
   "id": "79a61713",
   "metadata": {},
   "source": [
    "### What is the relationship between bathroomcnt and logerror?"
   ]
  },
  {
   "cell_type": "code",
   "execution_count": null,
   "id": "2c725bcb",
   "metadata": {},
   "outputs": [],
   "source": [
    "sns.barplot(x=train.bathroomcnt, y=train.logerror)\n",
    "#what in good god happened at the 8.5 bath"
   ]
  },
  {
   "cell_type": "markdown",
   "id": "aa668c9e",
   "metadata": {},
   "source": [
    "### What is the relationship between error rate and bathroom count?"
   ]
  },
  {
   "cell_type": "markdown",
   "id": "c50ffb81",
   "metadata": {},
   "source": [
    "Null-Hypothesis: There is no relationship between bathrooms and log_error\n",
    "<br>\n",
    "Alternative-Hypothesis: There is a relationship between bathrooms and log_error"
   ]
  },
  {
   "cell_type": "code",
   "execution_count": null,
   "id": "4efab966",
   "metadata": {},
   "outputs": [],
   "source": [
    "# only need like 3 or 4 exploring techniques to be able to deliver an MVP\n",
    "sns.scatterplot(x=train.bathroomcnt, y=train.logerror)\n",
    "#this here tells us that there is a little more inaccuracy around 1-5 bathrooms\n",
    "#to make proper use of statistics write out with numbers where the differences appear\n",
    "#model is overweight one one side"
   ]
  },
  {
   "cell_type": "code",
   "execution_count": null,
   "id": "ef6458d7",
   "metadata": {},
   "outputs": [],
   "source": [
    "test_results = stats.pearsonr(train.bathroomcnt , train.logerror )\n",
    "test_results\n",
    "print(test_results)\n",
    "r, p = test_results\n",
    "print(f'P is {p:.10f}')\n",
    "if p < alpha:\n",
    "    print('Therefore we reject the null hypothesis')"
   ]
  },
  {
   "cell_type": "markdown",
   "id": "f925d448",
   "metadata": {},
   "source": [
    "- takeaway: there is a larger range of error between 1 and 5 bathrooms\n",
    "- the statistical test is telling us that although the relationship exists it is not a very strong signal"
   ]
  },
  {
   "cell_type": "markdown",
   "id": "6bb1b4a1",
   "metadata": {},
   "source": [
    "### What does the log error look like/where are the concentrations?"
   ]
  },
  {
   "cell_type": "code",
   "execution_count": null,
   "id": "d4fd28d7",
   "metadata": {},
   "outputs": [],
   "source": [
    "#histograms usually work off one variable\n",
    "sns.histplot(x=train.logerror)"
   ]
  },
  {
   "cell_type": "markdown",
   "id": "f9441cbe",
   "metadata": {},
   "source": [
    "Takeaways: \n",
    "- there are more positive cases of error < 0.03 then there are negative\n",
    "- which looks much different when zoomed out at a macro scale"
   ]
  },
  {
   "cell_type": "markdown",
   "id": "d91ce473",
   "metadata": {},
   "source": [
    "### What does the distribution of bedrooms look like"
   ]
  },
  {
   "cell_type": "code",
   "execution_count": null,
   "id": "8b6b1673",
   "metadata": {},
   "outputs": [],
   "source": [
    "train.bedroomcnt.value_counts()"
   ]
  },
  {
   "cell_type": "markdown",
   "id": "4f80d649",
   "metadata": {},
   "source": [
    "Most of the entries have 2, 3, and 4 bedrooms"
   ]
  },
  {
   "cell_type": "markdown",
   "id": "13d12f0a",
   "metadata": {},
   "source": [
    "<hr>"
   ]
  },
  {
   "cell_type": "markdown",
   "id": "08c71767",
   "metadata": {},
   "source": [
    "I now need stats test for continuous on continous data not sure what calculations to use so will go there shortly\n",
    "\n",
    "This would mean numerical stats tests\n",
    "\n",
    "These include:\n",
    "- ANOVA\n",
    "- t-test\n",
    "- Mann Whitney U test\n",
    "- Pearson R\n",
    "- paired T-test"
   ]
  },
  {
   "cell_type": "markdown",
   "id": "fbbfacf6",
   "metadata": {},
   "source": [
    "### Where do the errors lie in relation to taxvaluedollarcnt"
   ]
  },
  {
   "cell_type": "code",
   "execution_count": null,
   "id": "bd124ee9",
   "metadata": {},
   "outputs": [],
   "source": [
    "sns.scatterplot(y=train.logerror,x=train.taxvaluedollarcnt)\n",
    "#hey wait a minute it seems to be all in a small area here"
   ]
  },
  {
   "cell_type": "markdown",
   "id": "92648988",
   "metadata": {},
   "source": [
    "Takeaways:\n",
    "- that the majority of the errors seem to be around the lower price point"
   ]
  },
  {
   "cell_type": "markdown",
   "id": "4a6b0d06",
   "metadata": {},
   "source": [
    "<b>Preparing takeaways:\n",
    "- over half of the columns dropped\n",
    "- some of the nulls were filled in with zeros\n",
    "- the amount of rows has been halved from the floor and cieling I had set\n",
    "</b>"
   ]
  },
  {
   "cell_type": "markdown",
   "id": "5df9e036",
   "metadata": {},
   "source": [
    "## Modeling"
   ]
  },
  {
   "cell_type": "markdown",
   "id": "ec3c0f73",
   "metadata": {},
   "source": [
    "I want to get an idea of what the logerror were to look like if it was clustered and overlayed onto a map"
   ]
  },
  {
   "cell_type": "code",
   "execution_count": null,
   "id": "efeb0916",
   "metadata": {},
   "outputs": [],
   "source": [
    "#label what we want clustered\n",
    "X = train[[\"logerror\"]]\n",
    "#get the thing\n",
    "kmeans = KMeans(n_clusters=5)\n",
    "#fit the thing\n",
    "kmeans.fit(X)\n",
    "#run the thing\n",
    "print(kmeans.predict(X))\n",
    "#make new column named cluster that holds their clustere value group 0-4\n",
    "train['cluster'] = kmeans.predict(X)"
   ]
  },
  {
   "cell_type": "markdown",
   "id": "ae3b53a1",
   "metadata": {},
   "source": [
    "### Where is the best amount of clusters"
   ]
  },
  {
   "cell_type": "code",
   "execution_count": null,
   "id": "429828a0",
   "metadata": {},
   "outputs": [],
   "source": [
    "with plt.style.context('seaborn-whitegrid'):\n",
    "    plt.figure(figsize=(9, 6))\n",
    "    pd.Series({k: KMeans(k).fit(X).inertia_ for k in range(2, 12)}).plot(marker='x')\n",
    "    plt.xticks(range(2, 12))\n",
    "    plt.xlabel('k')\n",
    "    plt.ylabel('inertia')\n",
    "    plt.title('Change in inertia as k increases')"
   ]
  },
  {
   "cell_type": "markdown",
   "id": "08806e56",
   "metadata": {},
   "source": [
    "Takeaway:\n",
    "- the magic number of clusters is anywhere between 5 and 7"
   ]
  },
  {
   "cell_type": "code",
   "execution_count": null,
   "id": "747ad6a9",
   "metadata": {},
   "outputs": [],
   "source": [
    "kmeans.cluster_centers_\n",
    "centroids = pd.DataFrame(kmeans.cluster_centers_, columns=X.columns)\n",
    "centroids"
   ]
  },
  {
   "cell_type": "code",
   "execution_count": null,
   "id": "61a6a6ef",
   "metadata": {},
   "outputs": [],
   "source": [
    "train.logerror.value_counts()"
   ]
  },
  {
   "cell_type": "markdown",
   "id": "7b95aa83",
   "metadata": {},
   "source": [
    "### What do the clusters look like when there are 5 of them"
   ]
  },
  {
   "cell_type": "code",
   "execution_count": null,
   "id": "e1069758",
   "metadata": {},
   "outputs": [],
   "source": [
    "plt.figure(figsize=(14, 9))\n",
    "\n",
    "for cluster, subset in train.groupby('cluster'):\n",
    "    plt.scatter( subset.bathroomcnt , subset.logerror, label='cluster ' + str(cluster), alpha=.6)\n",
    "plt.legend()\n",
    "plt.xlabel('bathroomcnt')\n",
    "plt.ylabel('log_error')\n",
    "plt.title('Visualizing Cluster Centers')"
   ]
  },
  {
   "cell_type": "markdown",
   "id": "c1bc283e",
   "metadata": {},
   "source": [
    "### Where are the groups the clusters live in"
   ]
  },
  {
   "cell_type": "code",
   "execution_count": null,
   "id": "2d2e729a",
   "metadata": {},
   "outputs": [],
   "source": [
    "#don't let this in the x train of my models\n",
    "sns.boxplot(x=\"cluster\", y=\"logerror\", data=train)\n",
    "#2 clusters are pretty accurate \n",
    "\n",
    "#1 cluster over shoots a little bit\n",
    "#2 clusters have my clues\n",
    "# one positive and one negative"
   ]
  },
  {
   "cell_type": "markdown",
   "id": "fff60b7d",
   "metadata": {},
   "source": [
    "Takeaway:\n",
    "- 2 clusters are pretty accurate \n",
    "- 1 cluster over shoots a little bit\n",
    "- 2 clusters have my clues\n",
    "  - one positive and one negative"
   ]
  },
  {
   "cell_type": "markdown",
   "id": "4dbce3bd",
   "metadata": {},
   "source": [
    "Numerical amount of groups"
   ]
  },
  {
   "cell_type": "code",
   "execution_count": null,
   "id": "e3b4475a",
   "metadata": {},
   "outputs": [],
   "source": [
    "train.cluster.value_counts()"
   ]
  },
  {
   "cell_type": "markdown",
   "id": "f5a2d4d4",
   "metadata": {},
   "source": [
    "Most of the misses are percise"
   ]
  },
  {
   "cell_type": "markdown",
   "id": "dad4f048",
   "metadata": {},
   "source": [
    "most of the predictions while off were fairly accurate\n",
    "\n",
    "\n",
    "the outliers are way smaller then expected\n",
    "\n",
    "\n",
    "may have to zoom in on or find another interpretation"
   ]
  },
  {
   "cell_type": "markdown",
   "id": "b71ffc9c",
   "metadata": {},
   "source": [
    "### What does the distribution look like with 6 clustering groups on logerror"
   ]
  },
  {
   "cell_type": "code",
   "execution_count": null,
   "id": "c82fd5ce",
   "metadata": {},
   "outputs": [],
   "source": [
    "#label what we want clustered\n",
    "X = train[[\"logerror\"]]\n",
    "#get the thing\n",
    "kmeans = KMeans(n_clusters=6)\n",
    "#fit the thing\n",
    "kmeans.fit(X)\n",
    "#run the thing\n",
    "print(kmeans.predict(X))\n",
    "#make new column named cluster that holds their clustere value group 0-4\n",
    "train['cluster'] = kmeans.predict(X)"
   ]
  },
  {
   "cell_type": "code",
   "execution_count": null,
   "id": "c595e511",
   "metadata": {},
   "outputs": [],
   "source": [
    "# X = train[[\"logerror\"]]\n",
    "kmeans = KMeans(n_clusters=6)\n",
    "kmeans.fit(X)\n",
    "plt.figure(figsize=(14, 9))\n",
    "\n",
    "for cluster, subset in train.groupby('cluster'):\n",
    "    plt.scatter(subset.logerror, subset.bathroomcnt,label='cluster ' + str(cluster), alpha=.6)\n",
    "\n",
    "# centroids.plot.scatter(y='log_error', x='bathroomcnt', c='black', marker='x', s=1000, ax=plt.gca(), label='centroid')\n",
    "\n",
    "plt.legend()\n",
    "plt.xlabel('bathroomcnt')\n",
    "plt.ylabel('log_error')\n",
    "plt.title('Visualizing Cluster Centers')"
   ]
  },
  {
   "cell_type": "markdown",
   "id": "e6b5cc9c",
   "metadata": {},
   "source": [
    "The results are very similar to the one with 5 cluster points but this one shows us that there is a subsection at 4 worth investigating"
   ]
  },
  {
   "cell_type": "markdown",
   "id": "9a263fd3",
   "metadata": {},
   "source": [
    "### Where are the groups the clusters live in"
   ]
  },
  {
   "cell_type": "code",
   "execution_count": null,
   "id": "18c16323",
   "metadata": {},
   "outputs": [],
   "source": [
    "sns.boxplot(x=\"cluster\", y=\"logerror\", data=train)"
   ]
  },
  {
   "cell_type": "code",
   "execution_count": null,
   "id": "6d259f3e",
   "metadata": {},
   "outputs": [],
   "source": [
    "sns.scatterplot(x=train.latitude,y=train.longitude, hue=train.cluster, palette=\"deep\")"
   ]
  },
  {
   "cell_type": "code",
   "execution_count": null,
   "id": "37f128d2",
   "metadata": {
    "scrolled": true
   },
   "outputs": [],
   "source": [
    "train.cluster.value_counts()"
   ]
  },
  {
   "cell_type": "markdown",
   "id": "39177926",
   "metadata": {},
   "source": [
    "Takeaway:\n",
    "- The smaller outliers are getting squeezed"
   ]
  },
  {
   "cell_type": "markdown",
   "id": "a038fc60",
   "metadata": {},
   "source": [
    "Summary so far:\n",
    "\n",
    "Most of the errors live within a small margin of error"
   ]
  },
  {
   "cell_type": "markdown",
   "id": "93b08cae",
   "metadata": {},
   "source": [
    "<hr>"
   ]
  },
  {
   "cell_type": "markdown",
   "id": "f2e13b2c",
   "metadata": {},
   "source": [
    "### What if we used 4 cluster groups"
   ]
  },
  {
   "cell_type": "code",
   "execution_count": null,
   "id": "3d74deb9",
   "metadata": {},
   "outputs": [],
   "source": [
    "#label what we want clustered\n",
    "X = train[[\"logerror\"]]\n",
    "#get the thing\n",
    "kmeans = KMeans(n_clusters=4)\n",
    "#fit the thing\n",
    "kmeans.fit(X)\n",
    "#run the thing\n",
    "print(kmeans.predict(X))\n",
    "#make new column named cluster that holds their clustere value group 0-4\n",
    "train['cluster'] = kmeans.predict(X)"
   ]
  },
  {
   "cell_type": "code",
   "execution_count": null,
   "id": "cafcbe00",
   "metadata": {},
   "outputs": [],
   "source": [
    "# X = train[[\"logerror\"]]\n",
    "kmeans = KMeans(n_clusters=4)\n",
    "kmeans.fit(X)\n",
    "plt.figure(figsize=(14, 9))\n",
    "\n",
    "for cluster, subset in train.groupby('cluster'):\n",
    "    plt.scatter(subset.logerror, subset.bathroomcnt,label='cluster ' + str(cluster), alpha=.6)\n",
    "\n",
    "# centroids.plot.scatter(y='log_error', x='bathroomcnt', c='black', marker='x', s=1000, ax=plt.gca(), label='centroid')\n",
    "\n",
    "plt.legend()\n",
    "plt.xlabel('bathroomcnt')\n",
    "plt.ylabel('log_error')\n",
    "plt.title('Visualizing Cluster Centers')"
   ]
  },
  {
   "cell_type": "code",
   "execution_count": null,
   "id": "3ba72798",
   "metadata": {},
   "outputs": [],
   "source": [
    "sns.boxplot(x=\"cluster\", y=\"logerror\", data=train)"
   ]
  },
  {
   "cell_type": "code",
   "execution_count": null,
   "id": "a9b412fa",
   "metadata": {},
   "outputs": [],
   "source": [
    "train.cluster.value_counts()"
   ]
  },
  {
   "cell_type": "code",
   "execution_count": null,
   "id": "c7e7de38",
   "metadata": {},
   "outputs": [],
   "source": [
    "sns.scatterplot(x=train.latitude,y=train.longitude, hue=train.cluster)"
   ]
  },
  {
   "cell_type": "markdown",
   "id": "a20deb2c",
   "metadata": {},
   "source": [
    "<hr>"
   ]
  },
  {
   "cell_type": "markdown",
   "id": "98ad3675",
   "metadata": {},
   "source": [
    "I am so lost right now\n",
    " I kinda want to go back and do a select k-best to determine what is valued and what isn't"
   ]
  },
  {
   "cell_type": "code",
   "execution_count": null,
   "id": "5911d7b1",
   "metadata": {},
   "outputs": [],
   "source": [
    "from sklearn.feature_selection import SelectKBest, f_regression"
   ]
  },
  {
   "cell_type": "code",
   "execution_count": null,
   "id": "04884367",
   "metadata": {},
   "outputs": [],
   "source": [
    "train.columns.shape"
   ]
  },
  {
   "cell_type": "markdown",
   "id": "19c2ddb0",
   "metadata": {},
   "source": [
    "More importantly we have a hug revaltion!:\n",
    "- I have found the order of impact my drivers are to logerror\n",
    "- Oddly enough they also look like taxvaluedollarcnt drivers which is...odd\n",
    "    - bathroomcnt\n",
    "    - bedroomcnt\n",
    "    - calculatedbathnbr\n",
    "    - calculatedfinishedsquarefeet\n",
    "    - finishedsquarefeet12\n",
    "    - fullbathcnt\n",
    "    - latitude\n",
    "    - longitude\n",
    "    - lotsizesquarefeet\n",
    "    - rawcensustractandblock\n",
    "    - roomcnt\n",
    "    - yearbuilt\n",
    "    - landtaxvaluedollarcn\n",
    "    - landtaxvaluedollarcnt\n",
    "    - taxamount\n",
    "    - censustractandblock"
   ]
  },
  {
   "cell_type": "code",
   "execution_count": null,
   "id": "ac0042e2",
   "metadata": {},
   "outputs": [],
   "source": [
    "train.cluster"
   ]
  },
  {
   "cell_type": "markdown",
   "id": "889d5744",
   "metadata": {},
   "source": [
    "This cell is cleaned of all bugs and now runs smooth as a whistle\n",
    "\n",
    "What now?\n",
    "\n",
    "Am taking as break is what now \n",
    "\n",
    "My next step would be to re-explore my top 5 driving factors"
   ]
  },
  {
   "cell_type": "markdown",
   "id": "2f34857d",
   "metadata": {},
   "source": [
    "### Explore part 2\n",
    "> electric boogaloo"
   ]
  },
  {
   "cell_type": "markdown",
   "id": "4fae1599",
   "metadata": {},
   "source": [
    "This is where I make more seaborn charts to plot out what exactly is happening woth my data"
   ]
  },
  {
   "cell_type": "markdown",
   "id": "5ad11ef5",
   "metadata": {},
   "source": [
    "What does the general shape of my leading drivers look like?"
   ]
  },
  {
   "cell_type": "code",
   "execution_count": null,
   "id": "ef55717b",
   "metadata": {},
   "outputs": [],
   "source": [
    "sns.displot(train.bathroomcnt)\n",
    "plt.gcf().set_size_inches(15, 8)"
   ]
  },
  {
   "cell_type": "code",
   "execution_count": null,
   "id": "dab666cf",
   "metadata": {},
   "outputs": [],
   "source": [
    "sns.displot(train.bedroomcnt)\n",
    "plt.gcf().set_size_inches(15, 8)"
   ]
  },
  {
   "cell_type": "code",
   "execution_count": null,
   "id": "be42f160",
   "metadata": {},
   "outputs": [],
   "source": [
    "sns.displot(train.calculatedbathnbr)\n",
    "plt.gcf().set_size_inches(15, 8)"
   ]
  },
  {
   "cell_type": "code",
   "execution_count": null,
   "id": "cc4fcb05",
   "metadata": {},
   "outputs": [],
   "source": [
    "sns.displot(train.calculatedfinishedsquarefeet)\n",
    "plt.gcf().set_size_inches(15, 8)"
   ]
  },
  {
   "cell_type": "markdown",
   "id": "1172a5d7",
   "metadata": {},
   "source": [
    "This looks identical to the feature above"
   ]
  },
  {
   "cell_type": "code",
   "execution_count": null,
   "id": "07f5fa0d",
   "metadata": {},
   "outputs": [],
   "source": [
    "sns.displot(train.finishedsquarefeet12)\n",
    "plt.gcf().set_size_inches(15, 8)"
   ]
  },
  {
   "cell_type": "markdown",
   "id": "0fb2df8a",
   "metadata": {},
   "source": [
    "What do  my leading drivers look compared to my target variable?"
   ]
  },
  {
   "cell_type": "code",
   "execution_count": null,
   "id": "522261fc",
   "metadata": {},
   "outputs": [],
   "source": [
    "sns.relplot(x=train.bathroomcnt, y=train.logerror, hue=train.cluster)\n",
    "plt.gcf().set_size_inches(15, 8)"
   ]
  },
  {
   "cell_type": "code",
   "execution_count": null,
   "id": "26a5134f",
   "metadata": {},
   "outputs": [],
   "source": [
    "sns.relplot(y=train.bathroomcnt, x=train.logerror, hue=train.cluster)\n",
    "plt.gcf().set_size_inches(15, 8)"
   ]
  },
  {
   "cell_type": "code",
   "execution_count": null,
   "id": "dd9e64f8",
   "metadata": {},
   "outputs": [],
   "source": [
    "sns.relplot(x=train.bedroomcnt, y=train.logerror, hue=train.cluster)\n",
    "plt.gcf().set_size_inches(15, 8)"
   ]
  },
  {
   "cell_type": "code",
   "execution_count": null,
   "id": "5aefe92a",
   "metadata": {},
   "outputs": [],
   "source": [
    "sns.relplot(x=train.calculatedbathnbr, y=train.logerror, hue=train.cluster)\n",
    "plt.gcf().set_size_inches(15, 8)"
   ]
  },
  {
   "cell_type": "code",
   "execution_count": null,
   "id": "43d64d19",
   "metadata": {},
   "outputs": [],
   "source": [
    "sns.relplot(x=train.calculatedfinishedsquarefeet, y=train.logerror, hue=train.cluster)\n",
    "plt.gcf().set_size_inches(15, 8)"
   ]
  },
  {
   "cell_type": "code",
   "execution_count": null,
   "id": "d0b0826d",
   "metadata": {},
   "outputs": [],
   "source": [
    "sns.relplot(x=train.finishedsquarefeet12, y=train.logerror, hue=train.cluster)\n",
    "plt.gcf().set_size_inches(15, 8)"
   ]
  },
  {
   "cell_type": "markdown",
   "id": "0df05a11",
   "metadata": {},
   "source": [
    "### What does the physical dispurtion of the cluster look like"
   ]
  },
  {
   "cell_type": "code",
   "execution_count": null,
   "id": "8a474b07",
   "metadata": {},
   "outputs": [],
   "source": [
    "sns.scatterplot(x=train.latitude,y=train.longitude, hue=train.cluster)"
   ]
  },
  {
   "cell_type": "code",
   "execution_count": null,
   "id": "e89d9745",
   "metadata": {},
   "outputs": [],
   "source": [
    "train.cluster.value_counts()"
   ]
  },
  {
   "cell_type": "code",
   "execution_count": null,
   "id": "97efff69",
   "metadata": {},
   "outputs": [],
   "source": [
    "sns.boxplot(x=\"cluster\", y=\"logerror\", data=train)"
   ]
  },
  {
   "cell_type": "markdown",
   "id": "201f40a4",
   "metadata": {},
   "source": [
    "Takeaways:\n",
    "> inconclusive\n",
    "\n",
    "I can name the in useful ways like:\n",
    "- a little under\n",
    "- a little over\n",
    "- way under \n",
    "- way over"
   ]
  },
  {
   "cell_type": "markdown",
   "id": "4762c342",
   "metadata": {},
   "source": [
    "- Modeling: At least 4 different models are created and their performance is compared. One model is the distinct combination of algorithm, hyperparameters, and features."
   ]
  },
  {
   "cell_type": "markdown",
   "id": "3440d9ab",
   "metadata": {},
   "source": [
    "- Clustering could be useful in several ways on this project:\n",
    "    - Do clusters produce an interesting insight, takeaway, or visualization that can be shared and communicated?\n",
    "    - With a small number of clusters, clusters could be one-hot encoded and used as a feature for modeling.\n",
    "    - Different models can be created for different clusters (while conceptually simple, this involves a much more complicated python implementation, so you should probably treat this idea as a bonus)\n",
    "- Sometimes your conclusion is that there is no effect or no significant difference. This is a valid conclusion in and of itself.\n",
    "- You might wish to start working in a notebook or to split your work up into multiple notebooks. This is totally fine and makes sense so long as eventually you clean up and transfer the work to a final notebook and/or python scripts.\n",
    "\n"
   ]
  },
  {
   "cell_type": "markdown",
   "id": "bd4cdd00",
   "metadata": {},
   "source": [
    "#### self checkpoint, need to make and use other clusters. \n",
    "> just logerror will not work\n",
    "> plan on combinations of features\n",
    "> - starting off with clusters of top 2 feats."
   ]
  },
  {
   "cell_type": "code",
   "execution_count": null,
   "id": "b589977c",
   "metadata": {},
   "outputs": [],
   "source": []
  }
 ],
 "metadata": {
  "kernelspec": {
   "display_name": "Python 3 (ipykernel)",
   "language": "python",
   "name": "python3"
  },
  "language_info": {
   "codemirror_mode": {
    "name": "ipython",
    "version": 3
   },
   "file_extension": ".py",
   "mimetype": "text/x-python",
   "name": "python",
   "nbconvert_exporter": "python",
   "pygments_lexer": "ipython3",
   "version": "3.9.7"
  },
  "vscode": {
   "interpreter": {
    "hash": "3067ead486e059ec00ffe7555bdb889e6e264a24dc711bf108106cc7baee8d5d"
   }
  }
 },
 "nbformat": 4,
 "nbformat_minor": 5
}
